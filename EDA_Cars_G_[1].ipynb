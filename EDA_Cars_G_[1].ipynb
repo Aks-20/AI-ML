{
  "cells": [
    {
      "cell_type": "markdown",
      "metadata": {
        "id": "view-in-github",
        "colab_type": "text"
      },
      "source": [
        "<a href=\"https://colab.research.google.com/github/Aks-20/AI-ML/blob/main/EDA_Cars_G_%5B1%5D.ipynb\" target=\"_parent\"><img src=\"https://colab.research.google.com/assets/colab-badge.svg\" alt=\"Open In Colab\"/></a>"
      ]
    },
    {
      "cell_type": "markdown",
      "metadata": {
        "id": "z0UQI7Fw0eIw"
      },
      "source": [
        "# Car Data Set\n",
        "\n",
        "- **Removing duplicates**\n",
        "- **Missing value treatment**\n",
        "- **Outlier Treatment**\n",
        "- **Scaling**\n",
        "- **Encoding Categorical variables**"
      ]
    },
    {
      "cell_type": "code",
      "execution_count": null,
      "metadata": {
        "ExecuteTime": {
          "end_time": "2020-04-08T17:42:55.107577Z",
          "start_time": "2020-04-08T17:42:55.102597Z"
        },
        "id": "wDac1mJD0eI0"
      },
      "outputs": [],
      "source": [
        "import pandas as pd\n",
        "import numpy as np\n",
        "import matplotlib.pyplot as plt\n",
        "import seaborn as sns\n",
        "%matplotlib inline"
      ]
    },
    {
      "cell_type": "code",
      "execution_count": null,
      "metadata": {
        "ExecuteTime": {
          "end_time": "2020-04-08T17:42:58.631162Z",
          "start_time": "2020-04-08T17:42:57.530483Z"
        },
        "id": "Bw16ygja0eI4"
      },
      "outputs": [],
      "source": [
        "df=pd.read_excel('EDA Cars-1.xlsx')"
      ]
    },
    {
      "cell_type": "code",
      "execution_count": null,
      "metadata": {
        "ExecuteTime": {
          "end_time": "2020-04-08T17:42:59.938189Z",
          "start_time": "2020-04-08T17:42:59.822520Z"
        },
        "id": "WuzZ3qq50eI5",
        "outputId": "555e5436-dc1d-4c3f-becf-395f361db809"
      },
      "outputs": [
        {
          "data": {
            "text/html": [
              "<div>\n",
              "<style scoped>\n",
              "    .dataframe tbody tr th:only-of-type {\n",
              "        vertical-align: middle;\n",
              "    }\n",
              "\n",
              "    .dataframe tbody tr th {\n",
              "        vertical-align: top;\n",
              "    }\n",
              "\n",
              "    .dataframe thead th {\n",
              "        text-align: right;\n",
              "    }\n",
              "</style>\n",
              "<table border=\"1\" class=\"dataframe\">\n",
              "  <thead>\n",
              "    <tr style=\"text-align: right;\">\n",
              "      <th></th>\n",
              "      <th>INDEX</th>\n",
              "      <th>INCOME</th>\n",
              "      <th>MARITAL STATUS</th>\n",
              "      <th>SEX</th>\n",
              "      <th>EDUCATION</th>\n",
              "      <th>JOB</th>\n",
              "      <th>TRAVEL TIME</th>\n",
              "      <th>USE</th>\n",
              "      <th>MILES CLOCKED</th>\n",
              "      <th>CAR TYPE</th>\n",
              "      <th>CAR AGE</th>\n",
              "      <th>CITY</th>\n",
              "      <th>POSTAL CODE</th>\n",
              "    </tr>\n",
              "  </thead>\n",
              "  <tbody>\n",
              "    <tr>\n",
              "      <th>0</th>\n",
              "      <td>1</td>\n",
              "      <td>125301.24250</td>\n",
              "      <td>No</td>\n",
              "      <td>F</td>\n",
              "      <td>Bachelors</td>\n",
              "      <td>Blue Collar</td>\n",
              "      <td>45.703013</td>\n",
              "      <td>Commercial</td>\n",
              "      <td>17430.0</td>\n",
              "      <td>Sports Car</td>\n",
              "      <td>7.0</td>\n",
              "      <td>Texas</td>\n",
              "      <td>42420.0</td>\n",
              "    </tr>\n",
              "    <tr>\n",
              "      <th>1</th>\n",
              "      <td>2</td>\n",
              "      <td>50815.44531</td>\n",
              "      <td>No</td>\n",
              "      <td>M</td>\n",
              "      <td>High School</td>\n",
              "      <td>NaN</td>\n",
              "      <td>20.591628</td>\n",
              "      <td>Private</td>\n",
              "      <td>18930.0</td>\n",
              "      <td>Minivan</td>\n",
              "      <td>1.0</td>\n",
              "      <td>Texas</td>\n",
              "      <td>42420.0</td>\n",
              "    </tr>\n",
              "    <tr>\n",
              "      <th>2</th>\n",
              "      <td>3</td>\n",
              "      <td>62977.82416</td>\n",
              "      <td>NaN</td>\n",
              "      <td>F</td>\n",
              "      <td>Bachelors</td>\n",
              "      <td>Clerical</td>\n",
              "      <td>33.639949</td>\n",
              "      <td>Private</td>\n",
              "      <td>NaN</td>\n",
              "      <td>SUV</td>\n",
              "      <td>1.0</td>\n",
              "      <td>Texas</td>\n",
              "      <td>42420.0</td>\n",
              "    </tr>\n",
              "    <tr>\n",
              "      <th>3</th>\n",
              "      <td>4</td>\n",
              "      <td>77099.96624</td>\n",
              "      <td>No</td>\n",
              "      <td>F</td>\n",
              "      <td>NaN</td>\n",
              "      <td>Lawyer</td>\n",
              "      <td>15.415676</td>\n",
              "      <td>NaN</td>\n",
              "      <td>18300.0</td>\n",
              "      <td>Sports Car</td>\n",
              "      <td>11.0</td>\n",
              "      <td>Texas</td>\n",
              "      <td>42420.0</td>\n",
              "    </tr>\n",
              "    <tr>\n",
              "      <th>4</th>\n",
              "      <td>5</td>\n",
              "      <td>130794.57420</td>\n",
              "      <td>No</td>\n",
              "      <td>M</td>\n",
              "      <td>High School</td>\n",
              "      <td>NaN</td>\n",
              "      <td>NaN</td>\n",
              "      <td>Commercial</td>\n",
              "      <td>28340.0</td>\n",
              "      <td>Panel Truck</td>\n",
              "      <td>10.0</td>\n",
              "      <td>Texas</td>\n",
              "      <td>42420.0</td>\n",
              "    </tr>\n",
              "  </tbody>\n",
              "</table>\n",
              "</div>"
            ],
            "text/plain": [
              "   INDEX        INCOME MARITAL STATUS SEX    EDUCATION          JOB  \\\n",
              "0      1  125301.24250             No   F    Bachelors  Blue Collar   \n",
              "1      2   50815.44531             No   M  High School          NaN   \n",
              "2      3   62977.82416            NaN   F    Bachelors     Clerical   \n",
              "3      4   77099.96624             No   F          NaN       Lawyer   \n",
              "4      5  130794.57420             No   M  High School          NaN   \n",
              "\n",
              "   TRAVEL TIME         USE  MILES CLOCKED     CAR TYPE  CAR AGE   CITY  \\\n",
              "0    45.703013  Commercial        17430.0   Sports Car      7.0  Texas   \n",
              "1    20.591628     Private        18930.0      Minivan      1.0  Texas   \n",
              "2    33.639949     Private            NaN          SUV      1.0  Texas   \n",
              "3    15.415676         NaN        18300.0   Sports Car     11.0  Texas   \n",
              "4          NaN  Commercial        28340.0  Panel Truck     10.0  Texas   \n",
              "\n",
              "   POSTAL CODE  \n",
              "0      42420.0  \n",
              "1      42420.0  \n",
              "2      42420.0  \n",
              "3      42420.0  \n",
              "4      42420.0  "
            ]
          },
          "execution_count": 3,
          "metadata": {},
          "output_type": "execute_result"
        }
      ],
      "source": [
        "df.head()"
      ]
    },
    {
      "cell_type": "markdown",
      "metadata": {
        "id": "z4Ib_ywe0eI6"
      },
      "source": [
        "**head function will tell you the top records in the data set. By default python shows you only top 5 records.**"
      ]
    },
    {
      "cell_type": "code",
      "execution_count": null,
      "metadata": {
        "ExecuteTime": {
          "end_time": "2020-04-08T17:43:01.021806Z",
          "start_time": "2020-04-08T17:43:01.017785Z"
        },
        "id": "eReeThsy0eI6",
        "outputId": "19215ccc-2f9f-4010-b8f5-ed0b383c1c8f"
      },
      "outputs": [
        {
          "data": {
            "text/plain": [
              "(303, 13)"
            ]
          },
          "execution_count": 5,
          "metadata": {},
          "output_type": "execute_result"
        }
      ],
      "source": [
        "df.shape"
      ]
    },
    {
      "cell_type": "markdown",
      "metadata": {
        "id": "Rp8X5VBN0eI6"
      },
      "source": [
        "**Shape attribute tells us number of observations and variables we have in the data set. It is used to check the dimension of data. The cars data set has 303 observations and 13 variables in the data set.**"
      ]
    },
    {
      "cell_type": "code",
      "execution_count": null,
      "metadata": {
        "ExecuteTime": {
          "end_time": "2020-04-08T17:43:02.056400Z",
          "start_time": "2020-04-08T17:43:02.044470Z"
        },
        "id": "ItdW7RAC0eI7",
        "outputId": "4a2da3aa-2026-4c5d-ca6d-3d5ecfc45ac6"
      },
      "outputs": [
        {
          "name": "stdout",
          "output_type": "stream",
          "text": [
            "<class 'pandas.core.frame.DataFrame'>\n",
            "RangeIndex: 303 entries, 0 to 302\n",
            "Data columns (total 13 columns):\n",
            " #   Column          Non-Null Count  Dtype  \n",
            "---  ------          --------------  -----  \n",
            " 0   INDEX           303 non-null    int64  \n",
            " 1   INCOME          260 non-null    float64\n",
            " 2   MARITAL STATUS  275 non-null    object \n",
            " 3   SEX             297 non-null    object \n",
            " 4   EDUCATION       259 non-null    object \n",
            " 5   JOB             257 non-null    object \n",
            " 6   TRAVEL TIME     262 non-null    float64\n",
            " 7   USE             250 non-null    object \n",
            " 8   MILES CLOCKED   278 non-null    float64\n",
            " 9   CAR TYPE        293 non-null    object \n",
            " 10  CAR AGE         283 non-null    float64\n",
            " 11  CITY            297 non-null    object \n",
            " 12  POSTAL CODE     300 non-null    float64\n",
            "dtypes: float64(5), int64(1), object(7)\n",
            "memory usage: 30.9+ KB\n"
          ]
        }
      ],
      "source": [
        "df.info()"
      ]
    },
    {
      "cell_type": "code",
      "execution_count": null,
      "metadata": {
        "id": "3Z9LQqoP0eI7"
      },
      "outputs": [],
      "source": [
        "df[\"POSTAL CODE\"]= pd.Categorical(df['POSTAL CODE']) # Converting Postal Code into Category"
      ]
    },
    {
      "cell_type": "code",
      "execution_count": null,
      "metadata": {
        "id": "tc5udyUo0eI7",
        "outputId": "3bd2a968-94d8-404c-f3c3-452e0fe33d02"
      },
      "outputs": [
        {
          "name": "stdout",
          "output_type": "stream",
          "text": [
            "<class 'pandas.core.frame.DataFrame'>\n",
            "RangeIndex: 303 entries, 0 to 302\n",
            "Data columns (total 13 columns):\n",
            " #   Column          Non-Null Count  Dtype   \n",
            "---  ------          --------------  -----   \n",
            " 0   INDEX           303 non-null    int64   \n",
            " 1   INCOME          260 non-null    float64 \n",
            " 2   MARITAL STATUS  275 non-null    object  \n",
            " 3   SEX             297 non-null    object  \n",
            " 4   EDUCATION       259 non-null    object  \n",
            " 5   JOB             257 non-null    object  \n",
            " 6   TRAVEL TIME     262 non-null    float64 \n",
            " 7   USE             250 non-null    object  \n",
            " 8   MILES CLOCKED   278 non-null    float64 \n",
            " 9   CAR TYPE        293 non-null    object  \n",
            " 10  CAR AGE         283 non-null    float64 \n",
            " 11  CITY            297 non-null    object  \n",
            " 12  POSTAL CODE     300 non-null    category\n",
            "dtypes: category(1), float64(4), int64(1), object(7)\n",
            "memory usage: 29.2+ KB\n"
          ]
        }
      ],
      "source": [
        "df.info()"
      ]
    },
    {
      "cell_type": "code",
      "execution_count": null,
      "metadata": {
        "id": "T6R_pFVG0eI8",
        "outputId": "00665e39-eb8c-4a28-ef53-1d49545a584f"
      },
      "outputs": [
        {
          "data": {
            "text/html": [
              "<div>\n",
              "<style scoped>\n",
              "    .dataframe tbody tr th:only-of-type {\n",
              "        vertical-align: middle;\n",
              "    }\n",
              "\n",
              "    .dataframe tbody tr th {\n",
              "        vertical-align: top;\n",
              "    }\n",
              "\n",
              "    .dataframe thead th {\n",
              "        text-align: right;\n",
              "    }\n",
              "</style>\n",
              "<table border=\"1\" class=\"dataframe\">\n",
              "  <thead>\n",
              "    <tr style=\"text-align: right;\">\n",
              "      <th></th>\n",
              "      <th>INDEX</th>\n",
              "      <th>INCOME</th>\n",
              "      <th>MARITAL STATUS</th>\n",
              "      <th>SEX</th>\n",
              "      <th>EDUCATION</th>\n",
              "      <th>JOB</th>\n",
              "      <th>TRAVEL TIME</th>\n",
              "      <th>USE</th>\n",
              "      <th>MILES CLOCKED</th>\n",
              "      <th>CAR TYPE</th>\n",
              "      <th>CAR AGE</th>\n",
              "      <th>CITY</th>\n",
              "      <th>POSTAL CODE</th>\n",
              "    </tr>\n",
              "  </thead>\n",
              "  <tbody>\n",
              "    <tr>\n",
              "      <th>0</th>\n",
              "      <td>1</td>\n",
              "      <td>125301.24250</td>\n",
              "      <td>No</td>\n",
              "      <td>F</td>\n",
              "      <td>Bachelors</td>\n",
              "      <td>Blue Collar</td>\n",
              "      <td>45.703013</td>\n",
              "      <td>Commercial</td>\n",
              "      <td>17430.0</td>\n",
              "      <td>Sports Car</td>\n",
              "      <td>7.0</td>\n",
              "      <td>Texas</td>\n",
              "      <td>42420.0</td>\n",
              "    </tr>\n",
              "    <tr>\n",
              "      <th>1</th>\n",
              "      <td>2</td>\n",
              "      <td>50815.44531</td>\n",
              "      <td>No</td>\n",
              "      <td>M</td>\n",
              "      <td>High School</td>\n",
              "      <td>NaN</td>\n",
              "      <td>20.591628</td>\n",
              "      <td>Private</td>\n",
              "      <td>18930.0</td>\n",
              "      <td>Minivan</td>\n",
              "      <td>1.0</td>\n",
              "      <td>Texas</td>\n",
              "      <td>42420.0</td>\n",
              "    </tr>\n",
              "    <tr>\n",
              "      <th>2</th>\n",
              "      <td>3</td>\n",
              "      <td>62977.82416</td>\n",
              "      <td>NaN</td>\n",
              "      <td>F</td>\n",
              "      <td>Bachelors</td>\n",
              "      <td>Clerical</td>\n",
              "      <td>33.639949</td>\n",
              "      <td>Private</td>\n",
              "      <td>NaN</td>\n",
              "      <td>SUV</td>\n",
              "      <td>1.0</td>\n",
              "      <td>Texas</td>\n",
              "      <td>42420.0</td>\n",
              "    </tr>\n",
              "    <tr>\n",
              "      <th>3</th>\n",
              "      <td>4</td>\n",
              "      <td>77099.96624</td>\n",
              "      <td>No</td>\n",
              "      <td>F</td>\n",
              "      <td>NaN</td>\n",
              "      <td>Lawyer</td>\n",
              "      <td>15.415676</td>\n",
              "      <td>NaN</td>\n",
              "      <td>18300.0</td>\n",
              "      <td>Sports Car</td>\n",
              "      <td>11.0</td>\n",
              "      <td>Texas</td>\n",
              "      <td>42420.0</td>\n",
              "    </tr>\n",
              "    <tr>\n",
              "      <th>4</th>\n",
              "      <td>5</td>\n",
              "      <td>130794.57420</td>\n",
              "      <td>No</td>\n",
              "      <td>M</td>\n",
              "      <td>High School</td>\n",
              "      <td>NaN</td>\n",
              "      <td>NaN</td>\n",
              "      <td>Commercial</td>\n",
              "      <td>28340.0</td>\n",
              "      <td>Panel Truck</td>\n",
              "      <td>10.0</td>\n",
              "      <td>Texas</td>\n",
              "      <td>42420.0</td>\n",
              "    </tr>\n",
              "  </tbody>\n",
              "</table>\n",
              "</div>"
            ],
            "text/plain": [
              "   INDEX        INCOME MARITAL STATUS SEX    EDUCATION          JOB  \\\n",
              "0      1  125301.24250             No   F    Bachelors  Blue Collar   \n",
              "1      2   50815.44531             No   M  High School          NaN   \n",
              "2      3   62977.82416            NaN   F    Bachelors     Clerical   \n",
              "3      4   77099.96624             No   F          NaN       Lawyer   \n",
              "4      5  130794.57420             No   M  High School          NaN   \n",
              "\n",
              "   TRAVEL TIME         USE  MILES CLOCKED     CAR TYPE  CAR AGE   CITY  \\\n",
              "0    45.703013  Commercial        17430.0   Sports Car      7.0  Texas   \n",
              "1    20.591628     Private        18930.0      Minivan      1.0  Texas   \n",
              "2    33.639949     Private            NaN          SUV      1.0  Texas   \n",
              "3    15.415676         NaN        18300.0   Sports Car     11.0  Texas   \n",
              "4          NaN  Commercial        28340.0  Panel Truck     10.0  Texas   \n",
              "\n",
              "  POSTAL CODE  \n",
              "0     42420.0  \n",
              "1     42420.0  \n",
              "2     42420.0  \n",
              "3     42420.0  \n",
              "4     42420.0  "
            ]
          },
          "execution_count": 9,
          "metadata": {},
          "output_type": "execute_result"
        }
      ],
      "source": [
        "df.head()"
      ]
    },
    {
      "cell_type": "markdown",
      "metadata": {
        "id": "7pjjedH60eI8"
      },
      "source": [
        "**info() is used to check the Information about the data and the datatypes of each respective attributes.**"
      ]
    },
    {
      "cell_type": "code",
      "execution_count": null,
      "metadata": {
        "ExecuteTime": {
          "end_time": "2020-04-08T17:43:03.102441Z",
          "start_time": "2020-04-08T17:43:03.078505Z"
        },
        "id": "znx7C2rU0eI8",
        "outputId": "5444d01f-cd7b-47ae-c1ed-6f8cead83c44"
      },
      "outputs": [
        {
          "data": {
            "text/html": [
              "<div>\n",
              "<style scoped>\n",
              "    .dataframe tbody tr th:only-of-type {\n",
              "        vertical-align: middle;\n",
              "    }\n",
              "\n",
              "    .dataframe tbody tr th {\n",
              "        vertical-align: top;\n",
              "    }\n",
              "\n",
              "    .dataframe thead th {\n",
              "        text-align: right;\n",
              "    }\n",
              "</style>\n",
              "<table border=\"1\" class=\"dataframe\">\n",
              "  <thead>\n",
              "    <tr style=\"text-align: right;\">\n",
              "      <th></th>\n",
              "      <th>INDEX</th>\n",
              "      <th>INCOME</th>\n",
              "      <th>TRAVEL TIME</th>\n",
              "      <th>MILES CLOCKED</th>\n",
              "      <th>CAR AGE</th>\n",
              "    </tr>\n",
              "  </thead>\n",
              "  <tbody>\n",
              "    <tr>\n",
              "      <th>count</th>\n",
              "      <td>303.000000</td>\n",
              "      <td>260.000000</td>\n",
              "      <td>262.000000</td>\n",
              "      <td>278.000000</td>\n",
              "      <td>283.000000</td>\n",
              "    </tr>\n",
              "    <tr>\n",
              "      <th>mean</th>\n",
              "      <td>139.640264</td>\n",
              "      <td>50025.162170</td>\n",
              "      <td>34.282098</td>\n",
              "      <td>13591.978417</td>\n",
              "      <td>6.265018</td>\n",
              "    </tr>\n",
              "    <tr>\n",
              "      <th>std</th>\n",
              "      <td>85.178422</td>\n",
              "      <td>41186.807914</td>\n",
              "      <td>14.910178</td>\n",
              "      <td>7167.328655</td>\n",
              "      <td>5.111218</td>\n",
              "    </tr>\n",
              "    <tr>\n",
              "      <th>min</th>\n",
              "      <td>1.000000</td>\n",
              "      <td>0.000000</td>\n",
              "      <td>5.000000</td>\n",
              "      <td>1500.000000</td>\n",
              "      <td>1.000000</td>\n",
              "    </tr>\n",
              "    <tr>\n",
              "      <th>25%</th>\n",
              "      <td>62.500000</td>\n",
              "      <td>20452.885023</td>\n",
              "      <td>24.449874</td>\n",
              "      <td>7900.000000</td>\n",
              "      <td>1.000000</td>\n",
              "    </tr>\n",
              "    <tr>\n",
              "      <th>50%</th>\n",
              "      <td>138.000000</td>\n",
              "      <td>44571.590870</td>\n",
              "      <td>33.564757</td>\n",
              "      <td>12065.000000</td>\n",
              "      <td>6.000000</td>\n",
              "    </tr>\n",
              "    <tr>\n",
              "      <th>75%</th>\n",
              "      <td>213.500000</td>\n",
              "      <td>66485.761387</td>\n",
              "      <td>43.907339</td>\n",
              "      <td>18240.000000</td>\n",
              "      <td>10.000000</td>\n",
              "    </tr>\n",
              "    <tr>\n",
              "      <th>max</th>\n",
              "      <td>289.000000</td>\n",
              "      <td>204667.589700</td>\n",
              "      <td>83.617643</td>\n",
              "      <td>38000.000000</td>\n",
              "      <td>20.000000</td>\n",
              "    </tr>\n",
              "  </tbody>\n",
              "</table>\n",
              "</div>"
            ],
            "text/plain": [
              "            INDEX         INCOME  TRAVEL TIME  MILES CLOCKED     CAR AGE\n",
              "count  303.000000     260.000000   262.000000     278.000000  283.000000\n",
              "mean   139.640264   50025.162170    34.282098   13591.978417    6.265018\n",
              "std     85.178422   41186.807914    14.910178    7167.328655    5.111218\n",
              "min      1.000000       0.000000     5.000000    1500.000000    1.000000\n",
              "25%     62.500000   20452.885023    24.449874    7900.000000    1.000000\n",
              "50%    138.000000   44571.590870    33.564757   12065.000000    6.000000\n",
              "75%    213.500000   66485.761387    43.907339   18240.000000   10.000000\n",
              "max    289.000000  204667.589700    83.617643   38000.000000   20.000000"
            ]
          },
          "execution_count": 10,
          "metadata": {},
          "output_type": "execute_result"
        }
      ],
      "source": [
        "df.describe()"
      ]
    },
    {
      "cell_type": "markdown",
      "metadata": {
        "id": "NWCbwA720eI9"
      },
      "source": [
        "**The describe method will help to see how data has been spread for the numerical values. We can clearly see the minimum value, mean values, different percentile values and maximum values.**"
      ]
    },
    {
      "cell_type": "markdown",
      "metadata": {
        "id": "mnN9Z-_S0eI9"
      },
      "source": [
        "# Check for Duplicate records"
      ]
    },
    {
      "cell_type": "code",
      "execution_count": null,
      "metadata": {
        "ExecuteTime": {
          "end_time": "2020-04-08T17:43:04.573449Z",
          "start_time": "2020-04-08T17:43:04.551522Z"
        },
        "id": "IoQNntVQ0eI9",
        "outputId": "5ced2824-fce4-4709-f6ff-d437ed453e3f"
      },
      "outputs": [
        {
          "name": "stdout",
          "output_type": "stream",
          "text": [
            "Number of duplicate rows = 14\n"
          ]
        },
        {
          "data": {
            "text/html": [
              "<div>\n",
              "<style scoped>\n",
              "    .dataframe tbody tr th:only-of-type {\n",
              "        vertical-align: middle;\n",
              "    }\n",
              "\n",
              "    .dataframe tbody tr th {\n",
              "        vertical-align: top;\n",
              "    }\n",
              "\n",
              "    .dataframe thead th {\n",
              "        text-align: right;\n",
              "    }\n",
              "</style>\n",
              "<table border=\"1\" class=\"dataframe\">\n",
              "  <thead>\n",
              "    <tr style=\"text-align: right;\">\n",
              "      <th></th>\n",
              "      <th>INDEX</th>\n",
              "      <th>INCOME</th>\n",
              "      <th>MARITAL STATUS</th>\n",
              "      <th>SEX</th>\n",
              "      <th>EDUCATION</th>\n",
              "      <th>JOB</th>\n",
              "      <th>TRAVEL TIME</th>\n",
              "      <th>USE</th>\n",
              "      <th>MILES CLOCKED</th>\n",
              "      <th>CAR TYPE</th>\n",
              "      <th>CAR AGE</th>\n",
              "      <th>CITY</th>\n",
              "      <th>POSTAL CODE</th>\n",
              "    </tr>\n",
              "  </thead>\n",
              "  <tbody>\n",
              "    <tr>\n",
              "      <th>69</th>\n",
              "      <td>29</td>\n",
              "      <td>64013.81632</td>\n",
              "      <td>Yes</td>\n",
              "      <td>M</td>\n",
              "      <td>High School</td>\n",
              "      <td>Blue Collar</td>\n",
              "      <td>32.717234</td>\n",
              "      <td>Commercial</td>\n",
              "      <td>7900.0</td>\n",
              "      <td>Pickup</td>\n",
              "      <td>5.0</td>\n",
              "      <td>Los Angeles</td>\n",
              "      <td>90049.0</td>\n",
              "    </tr>\n",
              "    <tr>\n",
              "      <th>70</th>\n",
              "      <td>29</td>\n",
              "      <td>64013.81632</td>\n",
              "      <td>Yes</td>\n",
              "      <td>M</td>\n",
              "      <td>High School</td>\n",
              "      <td>Blue Collar</td>\n",
              "      <td>32.717234</td>\n",
              "      <td>Commercial</td>\n",
              "      <td>7900.0</td>\n",
              "      <td>Pickup</td>\n",
              "      <td>5.0</td>\n",
              "      <td>Los Angeles</td>\n",
              "      <td>90049.0</td>\n",
              "    </tr>\n",
              "    <tr>\n",
              "      <th>71</th>\n",
              "      <td>29</td>\n",
              "      <td>64013.81632</td>\n",
              "      <td>Yes</td>\n",
              "      <td>M</td>\n",
              "      <td>High School</td>\n",
              "      <td>Blue Collar</td>\n",
              "      <td>32.717234</td>\n",
              "      <td>Commercial</td>\n",
              "      <td>7900.0</td>\n",
              "      <td>Pickup</td>\n",
              "      <td>5.0</td>\n",
              "      <td>Los Angeles</td>\n",
              "      <td>90049.0</td>\n",
              "    </tr>\n",
              "    <tr>\n",
              "      <th>72</th>\n",
              "      <td>29</td>\n",
              "      <td>64013.81632</td>\n",
              "      <td>Yes</td>\n",
              "      <td>M</td>\n",
              "      <td>High School</td>\n",
              "      <td>Blue Collar</td>\n",
              "      <td>32.717234</td>\n",
              "      <td>Commercial</td>\n",
              "      <td>7900.0</td>\n",
              "      <td>Pickup</td>\n",
              "      <td>5.0</td>\n",
              "      <td>Los Angeles</td>\n",
              "      <td>90049.0</td>\n",
              "    </tr>\n",
              "    <tr>\n",
              "      <th>73</th>\n",
              "      <td>29</td>\n",
              "      <td>64013.81632</td>\n",
              "      <td>Yes</td>\n",
              "      <td>M</td>\n",
              "      <td>High School</td>\n",
              "      <td>Blue Collar</td>\n",
              "      <td>32.717234</td>\n",
              "      <td>Commercial</td>\n",
              "      <td>7900.0</td>\n",
              "      <td>Pickup</td>\n",
              "      <td>5.0</td>\n",
              "      <td>Los Angeles</td>\n",
              "      <td>90049.0</td>\n",
              "    </tr>\n",
              "    <tr>\n",
              "      <th>74</th>\n",
              "      <td>29</td>\n",
              "      <td>64013.81632</td>\n",
              "      <td>Yes</td>\n",
              "      <td>M</td>\n",
              "      <td>High School</td>\n",
              "      <td>Blue Collar</td>\n",
              "      <td>32.717234</td>\n",
              "      <td>Commercial</td>\n",
              "      <td>7900.0</td>\n",
              "      <td>Pickup</td>\n",
              "      <td>5.0</td>\n",
              "      <td>Los Angeles</td>\n",
              "      <td>90049.0</td>\n",
              "    </tr>\n",
              "    <tr>\n",
              "      <th>75</th>\n",
              "      <td>29</td>\n",
              "      <td>64013.81632</td>\n",
              "      <td>Yes</td>\n",
              "      <td>M</td>\n",
              "      <td>High School</td>\n",
              "      <td>Blue Collar</td>\n",
              "      <td>32.717234</td>\n",
              "      <td>Commercial</td>\n",
              "      <td>7900.0</td>\n",
              "      <td>Pickup</td>\n",
              "      <td>5.0</td>\n",
              "      <td>Los Angeles</td>\n",
              "      <td>90049.0</td>\n",
              "    </tr>\n",
              "    <tr>\n",
              "      <th>76</th>\n",
              "      <td>29</td>\n",
              "      <td>64013.81632</td>\n",
              "      <td>Yes</td>\n",
              "      <td>M</td>\n",
              "      <td>High School</td>\n",
              "      <td>Blue Collar</td>\n",
              "      <td>32.717234</td>\n",
              "      <td>Commercial</td>\n",
              "      <td>7900.0</td>\n",
              "      <td>Pickup</td>\n",
              "      <td>5.0</td>\n",
              "      <td>Los Angeles</td>\n",
              "      <td>90049.0</td>\n",
              "    </tr>\n",
              "    <tr>\n",
              "      <th>77</th>\n",
              "      <td>29</td>\n",
              "      <td>64013.81632</td>\n",
              "      <td>Yes</td>\n",
              "      <td>M</td>\n",
              "      <td>High School</td>\n",
              "      <td>Blue Collar</td>\n",
              "      <td>32.717234</td>\n",
              "      <td>Commercial</td>\n",
              "      <td>7900.0</td>\n",
              "      <td>Pickup</td>\n",
              "      <td>5.0</td>\n",
              "      <td>Los Angeles</td>\n",
              "      <td>90049.0</td>\n",
              "    </tr>\n",
              "    <tr>\n",
              "      <th>78</th>\n",
              "      <td>29</td>\n",
              "      <td>64013.81632</td>\n",
              "      <td>Yes</td>\n",
              "      <td>M</td>\n",
              "      <td>High School</td>\n",
              "      <td>Blue Collar</td>\n",
              "      <td>32.717234</td>\n",
              "      <td>Commercial</td>\n",
              "      <td>7900.0</td>\n",
              "      <td>Pickup</td>\n",
              "      <td>5.0</td>\n",
              "      <td>Los Angeles</td>\n",
              "      <td>90049.0</td>\n",
              "    </tr>\n",
              "    <tr>\n",
              "      <th>79</th>\n",
              "      <td>29</td>\n",
              "      <td>64013.81632</td>\n",
              "      <td>Yes</td>\n",
              "      <td>M</td>\n",
              "      <td>High School</td>\n",
              "      <td>Blue Collar</td>\n",
              "      <td>32.717234</td>\n",
              "      <td>Commercial</td>\n",
              "      <td>7900.0</td>\n",
              "      <td>Pickup</td>\n",
              "      <td>5.0</td>\n",
              "      <td>Los Angeles</td>\n",
              "      <td>90049.0</td>\n",
              "    </tr>\n",
              "    <tr>\n",
              "      <th>80</th>\n",
              "      <td>29</td>\n",
              "      <td>64013.81632</td>\n",
              "      <td>Yes</td>\n",
              "      <td>M</td>\n",
              "      <td>High School</td>\n",
              "      <td>Blue Collar</td>\n",
              "      <td>32.717234</td>\n",
              "      <td>Commercial</td>\n",
              "      <td>7900.0</td>\n",
              "      <td>Pickup</td>\n",
              "      <td>5.0</td>\n",
              "      <td>Los Angeles</td>\n",
              "      <td>90049.0</td>\n",
              "    </tr>\n",
              "    <tr>\n",
              "      <th>81</th>\n",
              "      <td>29</td>\n",
              "      <td>64013.81632</td>\n",
              "      <td>Yes</td>\n",
              "      <td>M</td>\n",
              "      <td>High School</td>\n",
              "      <td>Blue Collar</td>\n",
              "      <td>32.717234</td>\n",
              "      <td>Commercial</td>\n",
              "      <td>7900.0</td>\n",
              "      <td>Pickup</td>\n",
              "      <td>5.0</td>\n",
              "      <td>Los Angeles</td>\n",
              "      <td>90049.0</td>\n",
              "    </tr>\n",
              "    <tr>\n",
              "      <th>82</th>\n",
              "      <td>29</td>\n",
              "      <td>64013.81632</td>\n",
              "      <td>Yes</td>\n",
              "      <td>M</td>\n",
              "      <td>High School</td>\n",
              "      <td>Blue Collar</td>\n",
              "      <td>32.717234</td>\n",
              "      <td>Commercial</td>\n",
              "      <td>7900.0</td>\n",
              "      <td>Pickup</td>\n",
              "      <td>5.0</td>\n",
              "      <td>Los Angeles</td>\n",
              "      <td>90049.0</td>\n",
              "    </tr>\n",
              "  </tbody>\n",
              "</table>\n",
              "</div>"
            ],
            "text/plain": [
              "    INDEX       INCOME MARITAL STATUS SEX    EDUCATION          JOB  \\\n",
              "69     29  64013.81632            Yes   M  High School  Blue Collar   \n",
              "70     29  64013.81632            Yes   M  High School  Blue Collar   \n",
              "71     29  64013.81632            Yes   M  High School  Blue Collar   \n",
              "72     29  64013.81632            Yes   M  High School  Blue Collar   \n",
              "73     29  64013.81632            Yes   M  High School  Blue Collar   \n",
              "74     29  64013.81632            Yes   M  High School  Blue Collar   \n",
              "75     29  64013.81632            Yes   M  High School  Blue Collar   \n",
              "76     29  64013.81632            Yes   M  High School  Blue Collar   \n",
              "77     29  64013.81632            Yes   M  High School  Blue Collar   \n",
              "78     29  64013.81632            Yes   M  High School  Blue Collar   \n",
              "79     29  64013.81632            Yes   M  High School  Blue Collar   \n",
              "80     29  64013.81632            Yes   M  High School  Blue Collar   \n",
              "81     29  64013.81632            Yes   M  High School  Blue Collar   \n",
              "82     29  64013.81632            Yes   M  High School  Blue Collar   \n",
              "\n",
              "    TRAVEL TIME         USE  MILES CLOCKED CAR TYPE  CAR AGE         CITY  \\\n",
              "69    32.717234  Commercial         7900.0   Pickup      5.0  Los Angeles   \n",
              "70    32.717234  Commercial         7900.0   Pickup      5.0  Los Angeles   \n",
              "71    32.717234  Commercial         7900.0   Pickup      5.0  Los Angeles   \n",
              "72    32.717234  Commercial         7900.0   Pickup      5.0  Los Angeles   \n",
              "73    32.717234  Commercial         7900.0   Pickup      5.0  Los Angeles   \n",
              "74    32.717234  Commercial         7900.0   Pickup      5.0  Los Angeles   \n",
              "75    32.717234  Commercial         7900.0   Pickup      5.0  Los Angeles   \n",
              "76    32.717234  Commercial         7900.0   Pickup      5.0  Los Angeles   \n",
              "77    32.717234  Commercial         7900.0   Pickup      5.0  Los Angeles   \n",
              "78    32.717234  Commercial         7900.0   Pickup      5.0  Los Angeles   \n",
              "79    32.717234  Commercial         7900.0   Pickup      5.0  Los Angeles   \n",
              "80    32.717234  Commercial         7900.0   Pickup      5.0  Los Angeles   \n",
              "81    32.717234  Commercial         7900.0   Pickup      5.0  Los Angeles   \n",
              "82    32.717234  Commercial         7900.0   Pickup      5.0  Los Angeles   \n",
              "\n",
              "   POSTAL CODE  \n",
              "69     90049.0  \n",
              "70     90049.0  \n",
              "71     90049.0  \n",
              "72     90049.0  \n",
              "73     90049.0  \n",
              "74     90049.0  \n",
              "75     90049.0  \n",
              "76     90049.0  \n",
              "77     90049.0  \n",
              "78     90049.0  \n",
              "79     90049.0  \n",
              "80     90049.0  \n",
              "81     90049.0  \n",
              "82     90049.0  "
            ]
          },
          "execution_count": 12,
          "metadata": {},
          "output_type": "execute_result"
        }
      ],
      "source": [
        "dups = df.duplicated()\n",
        "print('Number of duplicate rows = %d' % (dups.sum()))\n",
        "\n",
        "df[dups]"
      ]
    },
    {
      "cell_type": "markdown",
      "metadata": {
        "id": "M4KEsGv_0eI-"
      },
      "source": [
        "**Since we have 14 duplicate records in the data, we will remove this from the data set so that we get only distinct records.**"
      ]
    },
    {
      "cell_type": "code",
      "execution_count": null,
      "metadata": {
        "ExecuteTime": {
          "end_time": "2020-04-08T17:43:05.593735Z",
          "start_time": "2020-04-08T17:43:05.581812Z"
        },
        "id": "qiQh2wJ_0eI-",
        "outputId": "fb03949e-8dd8-485e-b6b7-f3e4c4f39e58",
        "colab": {
          "base_uri": "https://localhost:8080/",
          "height": 141
        }
      },
      "outputs": [
        {
          "output_type": "error",
          "ename": "NameError",
          "evalue": "name 'df' is not defined",
          "traceback": [
            "\u001b[0;31m---------------------------------------------------------------------------\u001b[0m",
            "\u001b[0;31mNameError\u001b[0m                                 Traceback (most recent call last)",
            "\u001b[0;32m<ipython-input-2-16cdb8520be8>\u001b[0m in \u001b[0;36m<cell line: 1>\u001b[0;34m()\u001b[0m\n\u001b[0;32m----> 1\u001b[0;31m \u001b[0mdf\u001b[0m\u001b[0;34m.\u001b[0m\u001b[0mdrop_duplicates\u001b[0m\u001b[0;34m(\u001b[0m\u001b[0minplace\u001b[0m\u001b[0;34m=\u001b[0m\u001b[0;32mTrue\u001b[0m\u001b[0;34m)\u001b[0m\u001b[0;34m\u001b[0m\u001b[0;34m\u001b[0m\u001b[0m\n\u001b[0m",
            "\u001b[0;31mNameError\u001b[0m: name 'df' is not defined"
          ]
        }
      ],
      "source": [
        "df.drop_duplicates(inplace=True)"
      ]
    },
    {
      "cell_type": "markdown",
      "metadata": {
        "id": "RdtjQz240eI-"
      },
      "source": [
        "**Post removing the duplicate, we will check whether the duplicates has been removed from the data set or not.**"
      ]
    },
    {
      "cell_type": "code",
      "execution_count": null,
      "metadata": {
        "ExecuteTime": {
          "end_time": "2020-04-08T17:43:06.553875Z",
          "start_time": "2020-04-08T17:43:06.537920Z"
        },
        "id": "atXbogXs0eI-",
        "outputId": "f49a8604-a07a-42fa-9471-7d0a720248bf"
      },
      "outputs": [
        {
          "name": "stdout",
          "output_type": "stream",
          "text": [
            "Number of duplicate rows = 0\n"
          ]
        },
        {
          "data": {
            "text/html": [
              "<div>\n",
              "<style scoped>\n",
              "    .dataframe tbody tr th:only-of-type {\n",
              "        vertical-align: middle;\n",
              "    }\n",
              "\n",
              "    .dataframe tbody tr th {\n",
              "        vertical-align: top;\n",
              "    }\n",
              "\n",
              "    .dataframe thead th {\n",
              "        text-align: right;\n",
              "    }\n",
              "</style>\n",
              "<table border=\"1\" class=\"dataframe\">\n",
              "  <thead>\n",
              "    <tr style=\"text-align: right;\">\n",
              "      <th></th>\n",
              "      <th>INDEX</th>\n",
              "      <th>INCOME</th>\n",
              "      <th>MARITAL STATUS</th>\n",
              "      <th>SEX</th>\n",
              "      <th>EDUCATION</th>\n",
              "      <th>JOB</th>\n",
              "      <th>TRAVEL TIME</th>\n",
              "      <th>USE</th>\n",
              "      <th>MILES CLOCKED</th>\n",
              "      <th>CAR TYPE</th>\n",
              "      <th>CAR AGE</th>\n",
              "      <th>CITY</th>\n",
              "      <th>POSTAL CODE</th>\n",
              "    </tr>\n",
              "  </thead>\n",
              "  <tbody>\n",
              "  </tbody>\n",
              "</table>\n",
              "</div>"
            ],
            "text/plain": [
              "Empty DataFrame\n",
              "Columns: [INDEX, INCOME, MARITAL STATUS, SEX, EDUCATION, JOB, TRAVEL TIME, USE, MILES CLOCKED, CAR TYPE, CAR AGE, CITY, POSTAL CODE]\n",
              "Index: []"
            ]
          },
          "execution_count": 14,
          "metadata": {},
          "output_type": "execute_result"
        }
      ],
      "source": [
        "# Check for duplicate data\n",
        "\n",
        "dups = df.duplicated()\n",
        "print('Number of duplicate rows = %d' % (dups.sum()))\n",
        "\n",
        "df[dups]"
      ]
    },
    {
      "cell_type": "markdown",
      "metadata": {
        "id": "Qz9v2vNV0eI_"
      },
      "source": [
        "**Now, we can  clearly see that there are no duplicate records in the data set. We can also quickly confirm the number of records by using the shape attribute as those 14 records should be removed from the original data. Initially it had 303 records now it should have 289**"
      ]
    },
    {
      "cell_type": "code",
      "execution_count": null,
      "metadata": {
        "ExecuteTime": {
          "end_time": "2020-04-08T17:43:07.511247Z",
          "start_time": "2020-04-08T17:43:07.507265Z"
        },
        "id": "9ZBEMwje0eI_",
        "outputId": "4f5a2bda-9376-466d-d0ee-c2b297df055e"
      },
      "outputs": [
        {
          "data": {
            "text/plain": [
              "(289, 13)"
            ]
          },
          "execution_count": 15,
          "metadata": {},
          "output_type": "execute_result"
        }
      ],
      "source": [
        "df.shape"
      ]
    },
    {
      "cell_type": "code",
      "execution_count": null,
      "metadata": {
        "id": "j4rpp-Wj0eI_"
      },
      "outputs": [],
      "source": [
        "df.drop('INDEX', axis=1, inplace=True)"
      ]
    },
    {
      "cell_type": "markdown",
      "metadata": {
        "id": "hIud8y8k0eI_"
      },
      "source": [
        "# Outlier Treatment\n",
        "\n",
        "**To check for outliers, we will be plotting the box plots.**"
      ]
    },
    {
      "cell_type": "code",
      "execution_count": null,
      "metadata": {
        "ExecuteTime": {
          "end_time": "2020-04-08T17:43:09.015194Z",
          "start_time": "2020-04-08T17:43:08.445798Z"
        },
        "id": "te9K682q0eJA",
        "outputId": "64c5d65a-909c-48de-905b-4cc815b14f48"
      },
      "outputs": [
        {
          "data": {
            "image/png": "[encoded data removed]",
            "text/plain": [
              "<Figure size 432x288 with 1 Axes>"
            ]
          },
          "metadata": {
            "needs_background": "light"
          },
          "output_type": "display_data"
        }
      ],
      "source": [
        "df.boxplot(column=['INCOME', 'TRAVEL TIME'])\n",
        "plt.show()\n"
      ]
    },
    {
      "cell_type": "code",
      "execution_count": null,
      "metadata": {
        "ExecuteTime": {
          "end_time": "2020-04-08T17:43:09.220949Z",
          "start_time": "2020-04-08T17:43:09.126393Z"
        },
        "scrolled": true,
        "id": "wRTLpSmq0eJA",
        "outputId": "1d57c047-b694-4eeb-cca9-2c63c6d8ada6"
      },
      "outputs": [
        {
          "data": {
            "image/png": "[encoded data removed]",
            "text/plain": [
              "<Figure size 432x288 with 1 Axes>"
            ]
          },
          "metadata": {
            "needs_background": "light"
          },
          "output_type": "display_data"
        }
      ],
      "source": [
        "df.boxplot(column=['TRAVEL TIME'])\n",
        "plt.show()"
      ]
    },
    {
      "cell_type": "code",
      "execution_count": null,
      "metadata": {
        "ExecuteTime": {
          "end_time": "2020-04-08T17:43:09.619602Z",
          "start_time": "2020-04-08T17:43:09.518443Z"
        },
        "id": "6uUSDIKv0eJA",
        "outputId": "08c62627-525f-4cf3-d306-171756362db2"
      },
      "outputs": [
        {
          "data": {
            "image/png": "[encoded data removed]",
            "text/plain": [
              "<Figure size 432x288 with 1 Axes>"
            ]
          },
          "metadata": {
            "needs_background": "light"
          },
          "output_type": "display_data"
        }
      ],
      "source": [
        "df.boxplot(column=['CAR AGE'])\n",
        "plt.show()"
      ]
    },
    {
      "cell_type": "code",
      "execution_count": null,
      "metadata": {
        "ExecuteTime": {
          "end_time": "2020-04-08T17:43:10.152434Z",
          "start_time": "2020-04-08T17:43:10.052701Z"
        },
        "id": "ft77IIiH0eJB",
        "outputId": "317ed8ef-46f6-4266-e50a-b59e8dd15583"
      },
      "outputs": [
        {
          "data": {
            "image/png": "[encoded data removed]",
            "text/plain": [
              "<Figure size 432x288 with 1 Axes>"
            ]
          },
          "metadata": {
            "needs_background": "light"
          },
          "output_type": "display_data"
        }
      ],
      "source": [
        "df.boxplot(column=['MILES CLOCKED'])\n",
        "plt.show()"
      ]
    },
    {
      "cell_type": "markdown",
      "metadata": {
        "id": "pOAipQNn0eJB"
      },
      "source": [
        "**Looking at the box plot, it seems that the three variables INCOME, MILES CLOCKED and TRAVEL TIME have outlier present in the variables.**\n",
        "\n",
        "**These outliers value needs to be teated and there are several ways of treating them:**\n",
        "    \n",
        "- **Drop the outlier value**\n",
        "- **Replace the outlier value using the IQR**\n",
        "\n"
      ]
    },
    {
      "cell_type": "markdown",
      "metadata": {
        "id": "8755wnmA0eJB"
      },
      "source": [
        "**Created a user definded function for finding the lower and upper range for a variable so that outlier can be treated.**"
      ]
    },
    {
      "cell_type": "code",
      "execution_count": null,
      "metadata": {
        "ExecuteTime": {
          "end_time": "2020-04-08T17:43:12.135431Z",
          "start_time": "2020-04-08T17:43:12.127452Z"
        },
        "id": "7QrTpwUE0eJB"
      },
      "outputs": [],
      "source": [
        "def remove_outlier(col):\n",
        "    sorted(col)\n",
        "    Q1,Q3=col.quantile([0.25,0.75])\n",
        "    IQR=Q3-Q1\n",
        "    lower_range= Q1-(1.5 * IQR)\n",
        "    upper_range= Q3+(1.5 * IQR)\n",
        "    return lower_range, upper_range"
      ]
    },
    {
      "cell_type": "code",
      "execution_count": null,
      "metadata": {
        "ExecuteTime": {
          "end_time": "2020-04-08T17:43:12.650851Z",
          "start_time": "2020-04-08T17:43:12.626880Z"
        },
        "id": "ij2Q0H5q0eJC",
        "outputId": "305edec9-9226-41d7-934e-cae66c6b15c4"
      },
      "outputs": [
        {
          "data": {
            "text/plain": [
              "(289, 12)"
            ]
          },
          "execution_count": 24,
          "metadata": {},
          "output_type": "execute_result"
        }
      ],
      "source": [
        "lrincome,urincome=remove_outlier(df['INCOME'])\n",
        "df['INCOME']=np.where(df['INCOME']>urincome,urincome,df['INCOME'])\n",
        "df['INCOME']=np.where(df['INCOME']<lrincome,lrincome,df['INCOME'])\n",
        "\n",
        "\n",
        "lrtravel,urtravel=remove_outlier(df['TRAVEL TIME'])\n",
        "df['TRAVEL TIME']=np.where(df['TRAVEL TIME']>urtravel,urtravel,df['TRAVEL TIME'])\n",
        "df['TRAVEL TIME']=np.where(df['TRAVEL TIME']<lrtravel,lrtravel,df['TRAVEL TIME'])\n",
        "\n",
        "lrmiles,urmiles=remove_outlier(df['MILES CLOCKED'])\n",
        "df['MILES CLOCKED']=np.where(df['MILES CLOCKED']>urmiles,urmiles,df['MILES CLOCKED'])\n",
        "df['MILES CLOCKED']=np.where(df['MILES CLOCKED']<lrmiles,lrmiles,df['MILES CLOCKED'])\n",
        "\n",
        "df.shape"
      ]
    },
    {
      "cell_type": "markdown",
      "metadata": {
        "id": "nPOPG9HD0eJC"
      },
      "source": [
        "##  Make Boxplots after Outlier Treatment"
      ]
    },
    {
      "cell_type": "code",
      "execution_count": null,
      "metadata": {
        "ExecuteTime": {
          "end_time": "2020-04-08T17:43:13.270315Z",
          "start_time": "2020-04-08T17:43:13.165558Z"
        },
        "id": "YNb1nBkO0eJD",
        "outputId": "601f2411-bb55-4523-cbdd-a6117001bb0f"
      },
      "outputs": [
        {
          "data": {
            "image/png": "[encoded data removed]",
            "text/plain": [
              "<Figure size 432x288 with 1 Axes>"
            ]
          },
          "metadata": {
            "needs_background": "light"
          },
          "output_type": "display_data"
        }
      ],
      "source": [
        "df.boxplot(column=['INCOME'])\n",
        "plt.show()"
      ]
    },
    {
      "cell_type": "code",
      "execution_count": null,
      "metadata": {
        "ExecuteTime": {
          "end_time": "2020-04-08T17:43:13.775304Z",
          "start_time": "2020-04-08T17:43:13.680593Z"
        },
        "id": "d-NJtc_70eJD",
        "outputId": "f168381a-5ec1-4f7a-bda6-3270de4c2af8"
      },
      "outputs": [
        {
          "data": {
            "image/png": "[encoded data removed]",
            "text/plain": [
              "<Figure size 432x288 with 1 Axes>"
            ]
          },
          "metadata": {
            "needs_background": "light"
          },
          "output_type": "display_data"
        }
      ],
      "source": [
        "df.boxplot(column=['TRAVEL TIME'])\n",
        "plt.show()"
      ]
    },
    {
      "cell_type": "code",
      "execution_count": null,
      "metadata": {
        "ExecuteTime": {
          "end_time": "2020-04-08T17:43:14.291660Z",
          "start_time": "2020-04-08T17:43:14.188935Z"
        },
        "id": "QYDCdiGI0eJE",
        "outputId": "5f413d23-537c-4c2b-afae-22863c90dc85"
      },
      "outputs": [
        {
          "data": {
            "image/png": "[encoded data removed]",
            "text/plain": [
              "<Figure size 432x288 with 1 Axes>"
            ]
          },
          "metadata": {
            "needs_background": "light"
          },
          "output_type": "display_data"
        }
      ],
      "source": [
        "df.boxplot(column=['MILES CLOCKED'])\n",
        "plt.show()"
      ]
    },
    {
      "cell_type": "markdown",
      "metadata": {
        "id": "StofFoxe0eJE"
      },
      "source": [
        "**If you look at the box plots above,post treating the outlier there are no outliers in all these columns.**"
      ]
    },
    {
      "cell_type": "markdown",
      "metadata": {
        "id": "fGfHwQyT0eJE"
      },
      "source": [
        "# Check for missing value"
      ]
    },
    {
      "cell_type": "code",
      "execution_count": null,
      "metadata": {
        "id": "G9gf11eM0eJE",
        "outputId": "5e0bc53d-471a-4be5-f7da-05ab516848ed"
      },
      "outputs": [
        {
          "data": {
            "text/plain": [
              "INCOME            43\n",
              "MARITAL STATUS    28\n",
              "SEX                6\n",
              "EDUCATION         44\n",
              "JOB               46\n",
              "TRAVEL TIME       41\n",
              "USE               53\n",
              "MILES CLOCKED     25\n",
              "CAR TYPE          10\n",
              "CAR AGE           20\n",
              "CITY               6\n",
              "POSTAL CODE        3\n",
              "dtype: int64"
            ]
          },
          "execution_count": 29,
          "metadata": {},
          "output_type": "execute_result"
        }
      ],
      "source": [
        "df.isnull().sum()"
      ]
    },
    {
      "cell_type": "markdown",
      "metadata": {
        "id": "3zRg4KkC0eJN"
      },
      "source": [
        "**Replacing NULL values in Numerical Columns using Median**"
      ]
    },
    {
      "cell_type": "code",
      "execution_count": null,
      "metadata": {
        "ExecuteTime": {
          "end_time": "2020-04-08T17:43:18.406760Z",
          "start_time": "2020-04-08T17:43:18.397786Z"
        },
        "id": "25OB-iYS0eJN"
      },
      "outputs": [],
      "source": [
        "median1=df[\"INCOME\"].median()\n",
        "median2=df[\"TRAVEL TIME\"].median()\n",
        "median3=df[\"MILES CLOCKED\"].median()\n",
        "median4=df[\"CAR AGE\"].median()"
      ]
    },
    {
      "cell_type": "code",
      "execution_count": null,
      "metadata": {
        "id": "aEoZdbDS0eJO"
      },
      "outputs": [],
      "source": [
        "df[\"INCOME\"].replace(np.nan,median1,inplace=True)\n",
        "df[\"TRAVEL TIME\"].replace(np.nan,median2,inplace=True)\n",
        "df[\"MILES CLOCKED\"].replace(np.nan,median3,inplace=True)\n",
        "df[\"CAR AGE\"].replace(np.nan,median4,inplace=True)"
      ]
    },
    {
      "cell_type": "markdown",
      "metadata": {
        "id": "_Ylpfn4F0eJO"
      },
      "source": [
        "**Replacing NULL values in Categorical Columns using Mode**"
      ]
    },
    {
      "cell_type": "code",
      "execution_count": null,
      "metadata": {
        "ExecuteTime": {
          "end_time": "2020-04-08T17:43:19.472345Z",
          "start_time": "2020-04-08T17:43:19.458383Z"
        },
        "id": "Q3Q8JNpH0eJO"
      },
      "outputs": [],
      "source": [
        "mode1=df[\"SEX\"].mode().values[0]\n",
        "mode2=df[\"MARITAL STATUS\"].mode().values[0]\n",
        "mode3=df[\"EDUCATION\"].mode().values[0]\n",
        "mode4=df[\"JOB\"].mode().values[0]\n",
        "mode5=df[\"USE\"].mode().values[0]\n",
        "mode6=df['CITY'].mode().values[0]\n",
        "mode7=df[\"CAR TYPE\"].mode().values[0]\n",
        "mode8=df[\"POSTAL CODE\"].mode().values[0]\n",
        "\n",
        "df[\"SEX\"]=df[\"SEX\"].replace(np.nan,mode1)\n",
        "df[\"MARITAL STATUS\"]= df[\"MARITAL STATUS\"].replace(np.nan,mode2)\n",
        "df[\"EDUCATION\"]=df[\"EDUCATION\"].replace(np.nan,mode3)\n",
        "df[\"JOB\"]=df[\"JOB\"].replace(np.nan,mode4)\n",
        "df[\"USE\"]=df[\"USE\"].replace(np.nan,mode5)\n",
        "df[\"CAR TYPE\"]=df[\"CAR TYPE\"].replace(np.nan,mode7)\n",
        "df['CITY']=df['CITY'].replace(np.nan,mode6)\n",
        "df['POSTAL CODE']=df['POSTAL CODE'].replace(np.nan,mode8)"
      ]
    },
    {
      "cell_type": "code",
      "execution_count": null,
      "metadata": {
        "id": "tTHCEgCP0eJO",
        "outputId": "d223fd7d-edf0-4308-95f3-d6bfc0471c16"
      },
      "outputs": [
        {
          "data": {
            "image/png": "[encoded data removed]",
            "text/plain": [
              "<Figure size 432x288 with 1 Axes>"
            ]
          },
          "metadata": {
            "needs_background": "light"
          },
          "output_type": "display_data"
        }
      ],
      "source": [
        "sns.histplot(df.INCOME,bins=10);"
      ]
    },
    {
      "cell_type": "code",
      "execution_count": null,
      "metadata": {
        "id": "FREwjmHh0eJP",
        "outputId": "dcc2327a-2e40-4682-ffc2-fec72ec6e786"
      },
      "outputs": [
        {
          "data": {
            "image/png": "[encoded data removed]",
            "text/plain": [
              "<Figure size 432x288 with 1 Axes>"
            ]
          },
          "metadata": {
            "needs_background": "light"
          },
          "output_type": "display_data"
        }
      ],
      "source": [
        "sns.countplot(x=df[\"EDUCATION\"]);"
      ]
    },
    {
      "cell_type": "code",
      "execution_count": null,
      "metadata": {
        "ExecuteTime": {
          "end_time": "2020-04-08T17:43:24.615385Z",
          "start_time": "2020-04-08T17:43:24.604411Z"
        },
        "id": "CACwlRpm0eJP",
        "outputId": "9732063e-81ce-4d90-deba-eacdcdb52f7c"
      },
      "outputs": [
        {
          "data": {
            "text/html": [
              "<div>\n",
              "<style scoped>\n",
              "    .dataframe tbody tr th:only-of-type {\n",
              "        vertical-align: middle;\n",
              "    }\n",
              "\n",
              "    .dataframe tbody tr th {\n",
              "        vertical-align: top;\n",
              "    }\n",
              "\n",
              "    .dataframe thead th {\n",
              "        text-align: right;\n",
              "    }\n",
              "</style>\n",
              "<table border=\"1\" class=\"dataframe\">\n",
              "  <thead>\n",
              "    <tr style=\"text-align: right;\">\n",
              "      <th></th>\n",
              "      <th>INCOME</th>\n",
              "      <th>TRAVEL TIME</th>\n",
              "      <th>MILES CLOCKED</th>\n",
              "      <th>CAR AGE</th>\n",
              "    </tr>\n",
              "  </thead>\n",
              "  <tbody>\n",
              "    <tr>\n",
              "      <th>INCOME</th>\n",
              "      <td>1.000000</td>\n",
              "      <td>0.059463</td>\n",
              "      <td>0.341234</td>\n",
              "      <td>0.264218</td>\n",
              "    </tr>\n",
              "    <tr>\n",
              "      <th>TRAVEL TIME</th>\n",
              "      <td>0.059463</td>\n",
              "      <td>1.000000</td>\n",
              "      <td>0.023640</td>\n",
              "      <td>0.145489</td>\n",
              "    </tr>\n",
              "    <tr>\n",
              "      <th>MILES CLOCKED</th>\n",
              "      <td>0.341234</td>\n",
              "      <td>0.023640</td>\n",
              "      <td>1.000000</td>\n",
              "      <td>0.129989</td>\n",
              "    </tr>\n",
              "    <tr>\n",
              "      <th>CAR AGE</th>\n",
              "      <td>0.264218</td>\n",
              "      <td>0.145489</td>\n",
              "      <td>0.129989</td>\n",
              "      <td>1.000000</td>\n",
              "    </tr>\n",
              "  </tbody>\n",
              "</table>\n",
              "</div>"
            ],
            "text/plain": [
              "                 INCOME  TRAVEL TIME  MILES CLOCKED   CAR AGE\n",
              "INCOME         1.000000     0.059463       0.341234  0.264218\n",
              "TRAVEL TIME    0.059463     1.000000       0.023640  0.145489\n",
              "MILES CLOCKED  0.341234     0.023640       1.000000  0.129989\n",
              "CAR AGE        0.264218     0.145489       0.129989  1.000000"
            ]
          },
          "execution_count": 46,
          "metadata": {},
          "output_type": "execute_result"
        }
      ],
      "source": [
        "df.corr()"
      ]
    },
    {
      "cell_type": "markdown",
      "metadata": {
        "id": "Cdei5MNp0eJP"
      },
      "source": [
        "## Correlation Heatmap"
      ]
    },
    {
      "cell_type": "code",
      "execution_count": null,
      "metadata": {
        "ExecuteTime": {
          "end_time": "2020-04-08T17:43:29.310359Z",
          "start_time": "2020-04-08T17:43:28.805698Z"
        },
        "id": "6s6dvP0H0eJQ",
        "outputId": "68113fe9-fbc1-4cd1-cb0a-96c15422c29b"
      },
      "outputs": [
        {
          "data": {
            "image/png": "[encoded data removed]",
            "text/plain": [
              "<Figure size 864x504 with 2 Axes>"
            ]
          },
          "metadata": {
            "needs_background": "light"
          },
          "output_type": "display_data"
        }
      ],
      "source": [
        "sns.heatmap(df.corr(), annot=True, fmt='.2f')\n",
        "plt.show()"
      ]
    },
    {
      "cell_type": "code",
      "execution_count": null,
      "metadata": {
        "ExecuteTime": {
          "end_time": "2020-04-08T17:43:31.510840Z",
          "start_time": "2020-04-08T17:43:30.620936Z"
        },
        "id": "w4YRWYqs0eJQ",
        "outputId": "a8655921-7fb0-477f-a978-26368d98e3ea"
      },
      "outputs": [
        {
          "data": {
            "text/plain": [
              "StandardScaler()"
            ]
          },
          "execution_count": 42,
          "metadata": {},
          "output_type": "execute_result"
        }
      ],
      "source": [
        "#Scales the data. Essentially returns the z-scores of every attribute\n",
        "from sklearn.preprocessing import StandardScaler\n",
        "std_scale = StandardScaler()\n",
        "std_scale"
      ]
    },
    {
      "cell_type": "code",
      "execution_count": null,
      "metadata": {
        "ExecuteTime": {
          "end_time": "2020-04-08T17:43:31.653530Z",
          "start_time": "2020-04-08T17:43:31.637491Z"
        },
        "id": "Rtd32m_X0eJQ"
      },
      "outputs": [],
      "source": [
        "df['INCOME'] = std_scale.fit_transform(df[['INCOME']])\n",
        "df['TRAVEL TIME'] = std_scale.fit_transform(df[['TRAVEL TIME']])\n",
        "df['CAR AGE'] = std_scale.fit_transform(df[['CAR AGE']])\n",
        "df['MILES CLOCKED']= std_scale.fit_transform(df[['MILES CLOCKED']])"
      ]
    },
    {
      "cell_type": "code",
      "execution_count": null,
      "metadata": {
        "ExecuteTime": {
          "end_time": "2020-04-08T17:43:31.825651Z",
          "start_time": "2020-04-08T17:43:31.769224Z"
        },
        "id": "L9tJTh400eJQ",
        "outputId": "5fe6c53b-8186-4596-f45d-0967a9b43bcd"
      },
      "outputs": [
        {
          "data": {
            "text/html": [
              "<div>\n",
              "<style scoped>\n",
              "    .dataframe tbody tr th:only-of-type {\n",
              "        vertical-align: middle;\n",
              "    }\n",
              "\n",
              "    .dataframe tbody tr th {\n",
              "        vertical-align: top;\n",
              "    }\n",
              "\n",
              "    .dataframe thead th {\n",
              "        text-align: right;\n",
              "    }\n",
              "</style>\n",
              "<table border=\"1\" class=\"dataframe\">\n",
              "  <thead>\n",
              "    <tr style=\"text-align: right;\">\n",
              "      <th></th>\n",
              "      <th>INCOME</th>\n",
              "      <th>MARITAL STATUS</th>\n",
              "      <th>SEX</th>\n",
              "      <th>EDUCATION</th>\n",
              "      <th>JOB</th>\n",
              "      <th>TRAVEL TIME</th>\n",
              "      <th>USE</th>\n",
              "      <th>MILES CLOCKED</th>\n",
              "      <th>CAR TYPE</th>\n",
              "      <th>CAR AGE</th>\n",
              "      <th>CITY</th>\n",
              "      <th>POSTAL CODE</th>\n",
              "    </tr>\n",
              "  </thead>\n",
              "  <tbody>\n",
              "    <tr>\n",
              "      <th>0</th>\n",
              "      <td>2.186892</td>\n",
              "      <td>No</td>\n",
              "      <td>F</td>\n",
              "      <td>Bachelors</td>\n",
              "      <td>Blue Collar</td>\n",
              "      <td>0.813273</td>\n",
              "      <td>Commercial</td>\n",
              "      <td>0.529946</td>\n",
              "      <td>Sports Car</td>\n",
              "      <td>0.137267</td>\n",
              "      <td>Texas</td>\n",
              "      <td>42420.0</td>\n",
              "    </tr>\n",
              "    <tr>\n",
              "      <th>1</th>\n",
              "      <td>0.108850</td>\n",
              "      <td>No</td>\n",
              "      <td>M</td>\n",
              "      <td>High School</td>\n",
              "      <td>Blue Collar</td>\n",
              "      <td>-0.981463</td>\n",
              "      <td>Private</td>\n",
              "      <td>0.748411</td>\n",
              "      <td>Minivan</td>\n",
              "      <td>-1.052842</td>\n",
              "      <td>Texas</td>\n",
              "      <td>42420.0</td>\n",
              "    </tr>\n",
              "    <tr>\n",
              "      <th>2</th>\n",
              "      <td>0.448162</td>\n",
              "      <td>No</td>\n",
              "      <td>F</td>\n",
              "      <td>Bachelors</td>\n",
              "      <td>Clerical</td>\n",
              "      <td>-0.048886</td>\n",
              "      <td>Private</td>\n",
              "      <td>-0.137830</td>\n",
              "      <td>SUV</td>\n",
              "      <td>-1.052842</td>\n",
              "      <td>Texas</td>\n",
              "      <td>42420.0</td>\n",
              "    </tr>\n",
              "    <tr>\n",
              "      <th>3</th>\n",
              "      <td>0.842148</td>\n",
              "      <td>No</td>\n",
              "      <td>F</td>\n",
              "      <td>High School</td>\n",
              "      <td>Lawyer</td>\n",
              "      <td>-1.351394</td>\n",
              "      <td>Private</td>\n",
              "      <td>0.656656</td>\n",
              "      <td>Sports Car</td>\n",
              "      <td>0.930674</td>\n",
              "      <td>Texas</td>\n",
              "      <td>42420.0</td>\n",
              "    </tr>\n",
              "    <tr>\n",
              "      <th>4</th>\n",
              "      <td>2.340148</td>\n",
              "      <td>No</td>\n",
              "      <td>M</td>\n",
              "      <td>High School</td>\n",
              "      <td>Blue Collar</td>\n",
              "      <td>0.007325</td>\n",
              "      <td>Commercial</td>\n",
              "      <td>2.118917</td>\n",
              "      <td>Panel Truck</td>\n",
              "      <td>0.732322</td>\n",
              "      <td>Texas</td>\n",
              "      <td>42420.0</td>\n",
              "    </tr>\n",
              "  </tbody>\n",
              "</table>\n",
              "</div>"
            ],
            "text/plain": [
              "     INCOME MARITAL STATUS SEX    EDUCATION          JOB  TRAVEL TIME  \\\n",
              "0  2.186892             No   F    Bachelors  Blue Collar     0.813273   \n",
              "1  0.108850             No   M  High School  Blue Collar    -0.981463   \n",
              "2  0.448162             No   F    Bachelors     Clerical    -0.048886   \n",
              "3  0.842148             No   F  High School       Lawyer    -1.351394   \n",
              "4  2.340148             No   M  High School  Blue Collar     0.007325   \n",
              "\n",
              "          USE  MILES CLOCKED     CAR TYPE   CAR AGE   CITY POSTAL CODE  \n",
              "0  Commercial       0.529946   Sports Car  0.137267  Texas     42420.0  \n",
              "1     Private       0.748411      Minivan -1.052842  Texas     42420.0  \n",
              "2     Private      -0.137830          SUV -1.052842  Texas     42420.0  \n",
              "3     Private       0.656656   Sports Car  0.930674  Texas     42420.0  \n",
              "4  Commercial       2.118917  Panel Truck  0.732322  Texas     42420.0  "
            ]
          },
          "execution_count": 44,
          "metadata": {},
          "output_type": "execute_result"
        }
      ],
      "source": [
        "df.head()"
      ]
    },
    {
      "cell_type": "markdown",
      "metadata": {
        "id": "8NbYWP150eJR"
      },
      "source": [
        "# ENCODING\n",
        "\n",
        "**One-Hot-Encoding is used to create dummy variables to replace the categories in a categorical variable into features of each category and represent it using 1 or 0 based on the presence or absence of the categorical value in the record.**\n",
        "\n",
        "**This is required to do since the machine learning algorithms only works on the numerical data. That is why there is a need to convert the categorical column into numerical one.**\n",
        "\n",
        "**get_dummies is the method which creates dummy variable for each categorical variable.**"
      ]
    },
    {
      "cell_type": "code",
      "execution_count": null,
      "metadata": {
        "ExecuteTime": {
          "end_time": "2020-04-08T17:43:33.386403Z",
          "start_time": "2020-04-08T17:43:33.363466Z"
        },
        "id": "VlO03fEg0eJR",
        "outputId": "81829fd9-6a22-4228-f44f-7dd15ff098ed"
      },
      "outputs": [
        {
          "data": {
            "text/html": [
              "<div>\n",
              "<style scoped>\n",
              "    .dataframe tbody tr th:only-of-type {\n",
              "        vertical-align: middle;\n",
              "    }\n",
              "\n",
              "    .dataframe tbody tr th {\n",
              "        vertical-align: top;\n",
              "    }\n",
              "\n",
              "    .dataframe thead th {\n",
              "        text-align: right;\n",
              "    }\n",
              "</style>\n",
              "<table border=\"1\" class=\"dataframe\">\n",
              "  <thead>\n",
              "    <tr style=\"text-align: right;\">\n",
              "      <th></th>\n",
              "      <th>married_Yes</th>\n",
              "      <th>sex_M</th>\n",
              "      <th>Education_High School</th>\n",
              "      <th>Education_Masters</th>\n",
              "      <th>Education_PhD</th>\n",
              "      <th>Job_Clerical</th>\n",
              "      <th>Job_Doctor</th>\n",
              "      <th>Job_Home Maker</th>\n",
              "      <th>Job_Lawyer</th>\n",
              "      <th>Job_Manager</th>\n",
              "      <th>...</th>\n",
              "      <th>city_Houston</th>\n",
              "      <th>city_Las Vegas</th>\n",
              "      <th>city_Los Angeles</th>\n",
              "      <th>city_New Albany</th>\n",
              "      <th>city_New York City</th>\n",
              "      <th>city_Philadelphia</th>\n",
              "      <th>city_San Francisco</th>\n",
              "      <th>city_Seattle</th>\n",
              "      <th>city_Texas</th>\n",
              "      <th>city_Washington</th>\n",
              "    </tr>\n",
              "  </thead>\n",
              "  <tbody>\n",
              "    <tr>\n",
              "      <th>0</th>\n",
              "      <td>0</td>\n",
              "      <td>0</td>\n",
              "      <td>0</td>\n",
              "      <td>0</td>\n",
              "      <td>0</td>\n",
              "      <td>0</td>\n",
              "      <td>0</td>\n",
              "      <td>0</td>\n",
              "      <td>0</td>\n",
              "      <td>0</td>\n",
              "      <td>...</td>\n",
              "      <td>0</td>\n",
              "      <td>0</td>\n",
              "      <td>0</td>\n",
              "      <td>0</td>\n",
              "      <td>0</td>\n",
              "      <td>0</td>\n",
              "      <td>0</td>\n",
              "      <td>0</td>\n",
              "      <td>1</td>\n",
              "      <td>0</td>\n",
              "    </tr>\n",
              "    <tr>\n",
              "      <th>1</th>\n",
              "      <td>0</td>\n",
              "      <td>1</td>\n",
              "      <td>1</td>\n",
              "      <td>0</td>\n",
              "      <td>0</td>\n",
              "      <td>0</td>\n",
              "      <td>0</td>\n",
              "      <td>0</td>\n",
              "      <td>0</td>\n",
              "      <td>0</td>\n",
              "      <td>...</td>\n",
              "      <td>0</td>\n",
              "      <td>0</td>\n",
              "      <td>0</td>\n",
              "      <td>0</td>\n",
              "      <td>0</td>\n",
              "      <td>0</td>\n",
              "      <td>0</td>\n",
              "      <td>0</td>\n",
              "      <td>1</td>\n",
              "      <td>0</td>\n",
              "    </tr>\n",
              "    <tr>\n",
              "      <th>2</th>\n",
              "      <td>0</td>\n",
              "      <td>0</td>\n",
              "      <td>0</td>\n",
              "      <td>0</td>\n",
              "      <td>0</td>\n",
              "      <td>1</td>\n",
              "      <td>0</td>\n",
              "      <td>0</td>\n",
              "      <td>0</td>\n",
              "      <td>0</td>\n",
              "      <td>...</td>\n",
              "      <td>0</td>\n",
              "      <td>0</td>\n",
              "      <td>0</td>\n",
              "      <td>0</td>\n",
              "      <td>0</td>\n",
              "      <td>0</td>\n",
              "      <td>0</td>\n",
              "      <td>0</td>\n",
              "      <td>1</td>\n",
              "      <td>0</td>\n",
              "    </tr>\n",
              "    <tr>\n",
              "      <th>3</th>\n",
              "      <td>0</td>\n",
              "      <td>0</td>\n",
              "      <td>1</td>\n",
              "      <td>0</td>\n",
              "      <td>0</td>\n",
              "      <td>0</td>\n",
              "      <td>0</td>\n",
              "      <td>0</td>\n",
              "      <td>1</td>\n",
              "      <td>0</td>\n",
              "      <td>...</td>\n",
              "      <td>0</td>\n",
              "      <td>0</td>\n",
              "      <td>0</td>\n",
              "      <td>0</td>\n",
              "      <td>0</td>\n",
              "      <td>0</td>\n",
              "      <td>0</td>\n",
              "      <td>0</td>\n",
              "      <td>1</td>\n",
              "      <td>0</td>\n",
              "    </tr>\n",
              "    <tr>\n",
              "      <th>4</th>\n",
              "      <td>0</td>\n",
              "      <td>1</td>\n",
              "      <td>1</td>\n",
              "      <td>0</td>\n",
              "      <td>0</td>\n",
              "      <td>0</td>\n",
              "      <td>0</td>\n",
              "      <td>0</td>\n",
              "      <td>0</td>\n",
              "      <td>0</td>\n",
              "      <td>...</td>\n",
              "      <td>0</td>\n",
              "      <td>0</td>\n",
              "      <td>0</td>\n",
              "      <td>0</td>\n",
              "      <td>0</td>\n",
              "      <td>0</td>\n",
              "      <td>0</td>\n",
              "      <td>0</td>\n",
              "      <td>1</td>\n",
              "      <td>0</td>\n",
              "    </tr>\n",
              "  </tbody>\n",
              "</table>\n",
              "<p>5 rows × 28 columns</p>\n",
              "</div>"
            ],
            "text/plain": [
              "   married_Yes  sex_M  Education_High School  Education_Masters  \\\n",
              "0            0      0                      0                  0   \n",
              "1            0      1                      1                  0   \n",
              "2            0      0                      0                  0   \n",
              "3            0      0                      1                  0   \n",
              "4            0      1                      1                  0   \n",
              "\n",
              "   Education_PhD  Job_Clerical  Job_Doctor  Job_Home Maker  Job_Lawyer  \\\n",
              "0              0             0           0               0           0   \n",
              "1              0             0           0               0           0   \n",
              "2              0             1           0               0           0   \n",
              "3              0             0           0               0           1   \n",
              "4              0             0           0               0           0   \n",
              "\n",
              "   Job_Manager  ...  city_Houston  city_Las Vegas  city_Los Angeles  \\\n",
              "0            0  ...             0               0                 0   \n",
              "1            0  ...             0               0                 0   \n",
              "2            0  ...             0               0                 0   \n",
              "3            0  ...             0               0                 0   \n",
              "4            0  ...             0               0                 0   \n",
              "\n",
              "   city_New Albany  city_New York City  city_Philadelphia  city_San Francisco  \\\n",
              "0                0                   0                  0                   0   \n",
              "1                0                   0                  0                   0   \n",
              "2                0                   0                  0                   0   \n",
              "3                0                   0                  0                   0   \n",
              "4                0                   0                  0                   0   \n",
              "\n",
              "   city_Seattle  city_Texas  city_Washington  \n",
              "0             0           1                0  \n",
              "1             0           1                0  \n",
              "2             0           1                0  \n",
              "3             0           1                0  \n",
              "4             0           1                0  \n",
              "\n",
              "[5 rows x 28 columns]"
            ]
          },
          "execution_count": 48,
          "metadata": {},
          "output_type": "execute_result"
        }
      ],
      "source": [
        "dummies=pd.get_dummies(df[[\"MARITAL STATUS\", \"SEX\",\"EDUCATION\",\"JOB\",\"USE\",\"CAR TYPE\",\"CITY\"]], columns=[\"MARITAL STATUS\", \"SEX\",\"EDUCATION\",\"JOB\",\"USE\",\"CAR TYPE\",\"CITY\"], prefix=[\"married\", \"sex\",\"Education\",\"Job\",\"Use\",\"cartype\",\"city\"],drop_first=True).head()\n",
        "dummies.head(10)"
      ]
    },
    {
      "cell_type": "code",
      "execution_count": null,
      "metadata": {
        "ExecuteTime": {
          "end_time": "2020-04-08T17:43:33.906006Z",
          "start_time": "2020-04-08T17:43:33.892044Z"
        },
        "id": "SCFtBA6X0eJR"
      },
      "outputs": [],
      "source": [
        "columns=[\"MARITAL STATUS\", \"SEX\",\"EDUCATION\",\"JOB\",\"USE\",\"CAR TYPE\",\"CITY\"]\n",
        "df = pd.concat([df, dummies], axis=1)\n",
        "df.drop(columns, axis = 1, inplace=True)"
      ]
    },
    {
      "cell_type": "code",
      "execution_count": null,
      "metadata": {
        "ExecuteTime": {
          "end_time": "2020-04-08T17:43:34.404094Z",
          "start_time": "2020-04-08T17:43:34.374215Z"
        },
        "id": "jzWDZqiy0eJS",
        "outputId": "40254186-4b54-445a-b485-40f6ee700b5f"
      },
      "outputs": [
        {
          "data": {
            "text/html": [
              "<div>\n",
              "<style scoped>\n",
              "    .dataframe tbody tr th:only-of-type {\n",
              "        vertical-align: middle;\n",
              "    }\n",
              "\n",
              "    .dataframe tbody tr th {\n",
              "        vertical-align: top;\n",
              "    }\n",
              "\n",
              "    .dataframe thead th {\n",
              "        text-align: right;\n",
              "    }\n",
              "</style>\n",
              "<table border=\"1\" class=\"dataframe\">\n",
              "  <thead>\n",
              "    <tr style=\"text-align: right;\">\n",
              "      <th></th>\n",
              "      <th>INCOME</th>\n",
              "      <th>TRAVEL TIME</th>\n",
              "      <th>MILES CLOCKED</th>\n",
              "      <th>CAR AGE</th>\n",
              "      <th>POSTAL CODE</th>\n",
              "      <th>married_Yes</th>\n",
              "      <th>sex_M</th>\n",
              "      <th>Education_High School</th>\n",
              "      <th>Education_Masters</th>\n",
              "      <th>Education_PhD</th>\n",
              "      <th>...</th>\n",
              "      <th>city_Houston</th>\n",
              "      <th>city_Las Vegas</th>\n",
              "      <th>city_Los Angeles</th>\n",
              "      <th>city_New Albany</th>\n",
              "      <th>city_New York City</th>\n",
              "      <th>city_Philadelphia</th>\n",
              "      <th>city_San Francisco</th>\n",
              "      <th>city_Seattle</th>\n",
              "      <th>city_Texas</th>\n",
              "      <th>city_Washington</th>\n",
              "    </tr>\n",
              "  </thead>\n",
              "  <tbody>\n",
              "    <tr>\n",
              "      <th>0</th>\n",
              "      <td>2.186892</td>\n",
              "      <td>0.813273</td>\n",
              "      <td>0.529946</td>\n",
              "      <td>0.137267</td>\n",
              "      <td>42420.0</td>\n",
              "      <td>0.0</td>\n",
              "      <td>0.0</td>\n",
              "      <td>0.0</td>\n",
              "      <td>0.0</td>\n",
              "      <td>0.0</td>\n",
              "      <td>...</td>\n",
              "      <td>0.0</td>\n",
              "      <td>0.0</td>\n",
              "      <td>0.0</td>\n",
              "      <td>0.0</td>\n",
              "      <td>0.0</td>\n",
              "      <td>0.0</td>\n",
              "      <td>0.0</td>\n",
              "      <td>0.0</td>\n",
              "      <td>1.0</td>\n",
              "      <td>0.0</td>\n",
              "    </tr>\n",
              "    <tr>\n",
              "      <th>1</th>\n",
              "      <td>0.108850</td>\n",
              "      <td>-0.981463</td>\n",
              "      <td>0.748411</td>\n",
              "      <td>-1.052842</td>\n",
              "      <td>42420.0</td>\n",
              "      <td>0.0</td>\n",
              "      <td>1.0</td>\n",
              "      <td>1.0</td>\n",
              "      <td>0.0</td>\n",
              "      <td>0.0</td>\n",
              "      <td>...</td>\n",
              "      <td>0.0</td>\n",
              "      <td>0.0</td>\n",
              "      <td>0.0</td>\n",
              "      <td>0.0</td>\n",
              "      <td>0.0</td>\n",
              "      <td>0.0</td>\n",
              "      <td>0.0</td>\n",
              "      <td>0.0</td>\n",
              "      <td>1.0</td>\n",
              "      <td>0.0</td>\n",
              "    </tr>\n",
              "    <tr>\n",
              "      <th>2</th>\n",
              "      <td>0.448162</td>\n",
              "      <td>-0.048886</td>\n",
              "      <td>-0.137830</td>\n",
              "      <td>-1.052842</td>\n",
              "      <td>42420.0</td>\n",
              "      <td>0.0</td>\n",
              "      <td>0.0</td>\n",
              "      <td>0.0</td>\n",
              "      <td>0.0</td>\n",
              "      <td>0.0</td>\n",
              "      <td>...</td>\n",
              "      <td>0.0</td>\n",
              "      <td>0.0</td>\n",
              "      <td>0.0</td>\n",
              "      <td>0.0</td>\n",
              "      <td>0.0</td>\n",
              "      <td>0.0</td>\n",
              "      <td>0.0</td>\n",
              "      <td>0.0</td>\n",
              "      <td>1.0</td>\n",
              "      <td>0.0</td>\n",
              "    </tr>\n",
              "    <tr>\n",
              "      <th>3</th>\n",
              "      <td>0.842148</td>\n",
              "      <td>-1.351394</td>\n",
              "      <td>0.656656</td>\n",
              "      <td>0.930674</td>\n",
              "      <td>42420.0</td>\n",
              "      <td>0.0</td>\n",
              "      <td>0.0</td>\n",
              "      <td>1.0</td>\n",
              "      <td>0.0</td>\n",
              "      <td>0.0</td>\n",
              "      <td>...</td>\n",
              "      <td>0.0</td>\n",
              "      <td>0.0</td>\n",
              "      <td>0.0</td>\n",
              "      <td>0.0</td>\n",
              "      <td>0.0</td>\n",
              "      <td>0.0</td>\n",
              "      <td>0.0</td>\n",
              "      <td>0.0</td>\n",
              "      <td>1.0</td>\n",
              "      <td>0.0</td>\n",
              "    </tr>\n",
              "    <tr>\n",
              "      <th>4</th>\n",
              "      <td>2.340148</td>\n",
              "      <td>0.007325</td>\n",
              "      <td>2.118917</td>\n",
              "      <td>0.732322</td>\n",
              "      <td>42420.0</td>\n",
              "      <td>0.0</td>\n",
              "      <td>1.0</td>\n",
              "      <td>1.0</td>\n",
              "      <td>0.0</td>\n",
              "      <td>0.0</td>\n",
              "      <td>...</td>\n",
              "      <td>0.0</td>\n",
              "      <td>0.0</td>\n",
              "      <td>0.0</td>\n",
              "      <td>0.0</td>\n",
              "      <td>0.0</td>\n",
              "      <td>0.0</td>\n",
              "      <td>0.0</td>\n",
              "      <td>0.0</td>\n",
              "      <td>1.0</td>\n",
              "      <td>0.0</td>\n",
              "    </tr>\n",
              "  </tbody>\n",
              "</table>\n",
              "<p>5 rows × 33 columns</p>\n",
              "</div>"
            ],
            "text/plain": [
              "     INCOME  TRAVEL TIME  MILES CLOCKED   CAR AGE POSTAL CODE  married_Yes  \\\n",
              "0  2.186892     0.813273       0.529946  0.137267     42420.0          0.0   \n",
              "1  0.108850    -0.981463       0.748411 -1.052842     42420.0          0.0   \n",
              "2  0.448162    -0.048886      -0.137830 -1.052842     42420.0          0.0   \n",
              "3  0.842148    -1.351394       0.656656  0.930674     42420.0          0.0   \n",
              "4  2.340148     0.007325       2.118917  0.732322     42420.0          0.0   \n",
              "\n",
              "   sex_M  Education_High School  Education_Masters  Education_PhD  ...  \\\n",
              "0    0.0                    0.0                0.0            0.0  ...   \n",
              "1    1.0                    1.0                0.0            0.0  ...   \n",
              "2    0.0                    0.0                0.0            0.0  ...   \n",
              "3    0.0                    1.0                0.0            0.0  ...   \n",
              "4    1.0                    1.0                0.0            0.0  ...   \n",
              "\n",
              "   city_Houston  city_Las Vegas  city_Los Angeles  city_New Albany  \\\n",
              "0           0.0             0.0               0.0              0.0   \n",
              "1           0.0             0.0               0.0              0.0   \n",
              "2           0.0             0.0               0.0              0.0   \n",
              "3           0.0             0.0               0.0              0.0   \n",
              "4           0.0             0.0               0.0              0.0   \n",
              "\n",
              "   city_New York City  city_Philadelphia  city_San Francisco  city_Seattle  \\\n",
              "0                 0.0                0.0                 0.0           0.0   \n",
              "1                 0.0                0.0                 0.0           0.0   \n",
              "2                 0.0                0.0                 0.0           0.0   \n",
              "3                 0.0                0.0                 0.0           0.0   \n",
              "4                 0.0                0.0                 0.0           0.0   \n",
              "\n",
              "   city_Texas  city_Washington  \n",
              "0         1.0              0.0  \n",
              "1         1.0              0.0  \n",
              "2         1.0              0.0  \n",
              "3         1.0              0.0  \n",
              "4         1.0              0.0  \n",
              "\n",
              "[5 rows x 33 columns]"
            ]
          },
          "execution_count": 50,
          "metadata": {},
          "output_type": "execute_result"
        }
      ],
      "source": [
        "df.head()"
      ]
    },
    {
      "cell_type": "code",
      "source": [
        "import pandas as pd\n"
      ],
      "metadata": {
        "id": "MC9EMkraa7SE"
      },
      "execution_count": null,
      "outputs": []
    },
    {
      "cell_type": "code",
      "source": [
        "data = {'Name': ['John', 'Jane', 'Tom'],\n",
        "        'Age': [23, 22, 25],\n",
        "        'Score': [85, 90, 75]}\n",
        "\n",
        "df = pd.DataFrame(data)\n"
      ],
      "metadata": {
        "id": "btxvuMDSWtQM"
      },
      "execution_count": null,
      "outputs": []
    },
    {
      "cell_type": "code",
      "source": [
        "print(df.head())\n"
      ],
      "metadata": {
        "colab": {
          "base_uri": "https://localhost:8080/"
        },
        "id": "b6Sb7UNPW0Wv",
        "outputId": "466d9b3b-e1be-48b5-83c9-2b3fb726305d"
      },
      "execution_count": null,
      "outputs": [
        {
          "output_type": "stream",
          "name": "stdout",
          "text": [
            "   Name  Age  Score\n",
            "0  John   23     85\n",
            "1  Jane   22     90\n",
            "2   Tom   25     75\n"
          ]
        }
      ]
    },
    {
      "cell_type": "code",
      "source": [
        "print(df.describe())\n"
      ],
      "metadata": {
        "colab": {
          "base_uri": "https://localhost:8080/"
        },
        "id": "iCW_1hGnW2uV",
        "outputId": "b908ca64-fa80-439d-8c71-0386b6330eaf"
      },
      "execution_count": null,
      "outputs": [
        {
          "output_type": "stream",
          "name": "stdout",
          "text": [
            "             Age      Score\n",
            "count   3.000000   3.000000\n",
            "mean   23.333333  83.333333\n",
            "std     1.527525   7.637626\n",
            "min    22.000000  75.000000\n",
            "25%    22.500000  80.000000\n",
            "50%    23.000000  85.000000\n",
            "75%    24.000000  87.500000\n",
            "max    25.000000  90.000000\n"
          ]
        }
      ]
    },
    {
      "cell_type": "code",
      "source": [
        "df_filtered = df[df['Age'] > 23]\n"
      ],
      "metadata": {
        "id": "0ab5d9oXW7cR"
      },
      "execution_count": null,
      "outputs": []
    },
    {
      "cell_type": "code",
      "source": [
        "df['New_Column'] = df['Score'] * 2\n"
      ],
      "metadata": {
        "id": "48UYhUKoXNlX"
      },
      "execution_count": null,
      "outputs": []
    },
    {
      "cell_type": "code",
      "source": [
        "print(df)"
      ],
      "metadata": {
        "colab": {
          "base_uri": "https://localhost:8080/"
        },
        "id": "h4DDccw6XYBd",
        "outputId": "89d9d4de-6c74-4dd9-f433-42ff8d451f45"
      },
      "execution_count": null,
      "outputs": [
        {
          "output_type": "stream",
          "name": "stdout",
          "text": [
            "   Name  Age  Score  New_Column\n",
            "0  John   23     85         170\n",
            "1  Jane   22     90         180\n",
            "2   Tom   25     75         150\n"
          ]
        }
      ]
    },
    {
      "cell_type": "code",
      "source": [
        "# 4 Experiment"
      ],
      "metadata": {
        "id": "l9JUHja5Y7IV"
      },
      "execution_count": null,
      "outputs": []
    },
    {
      "cell_type": "code",
      "source": [
        "# Importing necessary libraries\n",
        "import pandas as pd\n",
        "import numpy as np\n",
        "import seaborn as sns\n",
        "import matplotlib.pyplot as plt\n",
        "from sklearn.feature_selection import SelectKBest, f_regression, chi2\n",
        "from sklearn.preprocessing import LabelEncoder, StandardScaler\n"
      ],
      "metadata": {
        "id": "tHbDFYULY-N0"
      },
      "execution_count": null,
      "outputs": []
    },
    {
      "cell_type": "code",
      "source": [
        "data = pd.read_csv('Data12.csv')\n"
      ],
      "metadata": {
        "id": "pzDwxjZDZBuX"
      },
      "execution_count": null,
      "outputs": []
    },
    {
      "cell_type": "code",
      "source": [
        "print(\"Data Head:\\n\", data.head())\n",
        "print(\"Data Info:\\n\", data.info())\n"
      ],
      "metadata": {
        "colab": {
          "base_uri": "https://localhost:8080/"
        },
        "id": "uepjEdxIZIWc",
        "outputId": "192eb0d9-9f44-4469-ac04-df9a60d6dfa1"
      },
      "execution_count": null,
      "outputs": [
        {
          "output_type": "stream",
          "name": "stdout",
          "text": [
            "Data Head:\n",
            "    feature1  feature2  feature3     target\n",
            "0 -0.570563  1.420342  0.495580  -9.763182\n",
            "1 -0.990563  0.556965  1.045064 -24.029355\n",
            "2 -0.674728  0.150617  1.774645  45.616421\n",
            "3  0.388250 -0.387127 -0.110229  34.135737\n",
            "4  1.167882 -0.024104  0.145063  86.663647\n",
            "<class 'pandas.core.frame.DataFrame'>\n",
            "RangeIndex: 200 entries, 0 to 199\n",
            "Data columns (total 4 columns):\n",
            " #   Column    Non-Null Count  Dtype  \n",
            "---  ------    --------------  -----  \n",
            " 0   feature1  200 non-null    float64\n",
            " 1   feature2  200 non-null    float64\n",
            " 2   feature3  200 non-null    float64\n",
            " 3   target    200 non-null    float64\n",
            "dtypes: float64(4)\n",
            "memory usage: 6.4 KB\n",
            "Data Info:\n",
            " None\n"
          ]
        }
      ]
    },
    {
      "cell_type": "code",
      "source": [
        "# 3. Preprocessing\n",
        "# Assuming the last column is the target variable\n",
        "target_column = 'target'  # Replace with the actual target column name\n",
        "X = data.drop(target_column, axis=1)\n",
        "y = data[target_column]\n"
      ],
      "metadata": {
        "id": "e3dBMGtAZLYR"
      },
      "execution_count": null,
      "outputs": []
    },
    {
      "cell_type": "code",
      "source": [
        "# Handle categorical variables with Label Encoding\n",
        "label_encoder = LabelEncoder()\n",
        "for col in X.select_dtypes(include=['object']).columns:\n",
        "    X[col] = label_encoder.fit_transform(X[col])\n"
      ],
      "metadata": {
        "id": "Oh7D-SziaoxH"
      },
      "execution_count": null,
      "outputs": []
    },
    {
      "cell_type": "code",
      "source": [
        "# Standardize the data (for Chi-Square test)\n",
        "X_non_negative = StandardScaler().fit_transform(X)\n",
        "X_non_negative = np.abs(X_non_negative)  # Ensure non-negative values for Chi-Square\n"
      ],
      "metadata": {
        "id": "oZpOlW7marib"
      },
      "execution_count": null,
      "outputs": []
    },
    {
      "cell_type": "code",
      "source": [
        "# Plot heatmap for correlation\n",
        "\n",
        "\n",
        "correlation_matrix = X.corr()\n",
        "# Plot heatmap for correlation\n",
        "plt.figure(figsize=(12, 8))\n",
        "sns.heatmap(correlation_matrix, annot=True, cmap='coolwarm', fmt='.2f')\n",
        "plt.title('Pearson Correlation Heatmap')\n",
        "plt.show()\n",
        "\n"
      ],
      "metadata": {
        "colab": {
          "base_uri": "https://localhost:8080/",
          "height": 699
        },
        "id": "MAyJcw2tZO9x",
        "outputId": "dc90cdbb-82bf-488f-f9dc-120cbcda9704"
      },
      "execution_count": null,
      "outputs": [
        {
          "output_type": "display_data",
          "data": {
            "text/plain": [
              "<Figure size 1200x800 with 2 Axes>"
            ],
            "image/png": "[encoded data removed]"
          },
          "metadata": {}
        }
      ]
    },
    {
      "cell_type": "code",
      "source": [
        "# 5. Feature selection using f_regression (for continuous target and features)\n",
        "f_test = SelectKBest(score_func=f_regression, k='all')\n",
        "f_test.fit(X, y)\n"
      ],
      "metadata": {
        "colab": {
          "base_uri": "https://localhost:8080/",
          "height": 74
        },
        "id": "dhF4ILmnZSOv",
        "outputId": "e743a101-c6ca-412a-b270-e2640d71edd9"
      },
      "execution_count": null,
      "outputs": [
        {
          "output_type": "execute_result",
          "data": {
            "text/plain": [
              "SelectKBest(k='all', score_func=<function f_regression at 0x7f58abc6bb50>)"
            ],
            "text/html": [
              "<style>#sk-container-id-1 {color: black;}#sk-container-id-1 pre{padding: 0;}#sk-container-id-1 div.sk-toggleable {background-color: white;}#sk-container-id-1 label.sk-toggleable__label {cursor: pointer;display: block;width: 100%;margin-bottom: 0;padding: 0.3em;box-sizing: border-box;text-align: center;}#sk-container-id-1 label.sk-toggleable__label-arrow:before {content: \"▸\";float: left;margin-right: 0.25em;color: #696969;}#sk-container-id-1 label.sk-toggleable__label-arrow:hover:before {color: black;}#sk-container-id-1 div.sk-estimator:hover label.sk-toggleable__label-arrow:before {color: black;}#sk-container-id-1 div.sk-toggleable__content {max-height: 0;max-width: 0;overflow: hidden;text-align: left;background-color: #f0f8ff;}#sk-container-id-1 div.sk-toggleable__content pre {margin: 0.2em;color: black;border-radius: 0.25em;background-color: #f0f8ff;}#sk-container-id-1 input.sk-toggleable__control:checked~div.sk-toggleable__content {max-height: 200px;max-width: 100%;overflow: auto;}#sk-container-id-1 input.sk-toggleable__control:checked~label.sk-toggleable__label-arrow:before {content: \"▾\";}#sk-container-id-1 div.sk-estimator input.sk-toggleable__control:checked~label.sk-toggleable__label {background-color: #d4ebff;}#sk-container-id-1 div.sk-label input.sk-toggleable__control:checked~label.sk-toggleable__label {background-color: #d4ebff;}#sk-container-id-1 input.sk-hidden--visually {border: 0;clip: rect(1px 1px 1px 1px);clip: rect(1px, 1px, 1px, 1px);height: 1px;margin: -1px;overflow: hidden;padding: 0;position: absolute;width: 1px;}#sk-container-id-1 div.sk-estimator {font-family: monospace;background-color: #f0f8ff;border: 1px dotted black;border-radius: 0.25em;box-sizing: border-box;margin-bottom: 0.5em;}#sk-container-id-1 div.sk-estimator:hover {background-color: #d4ebff;}#sk-container-id-1 div.sk-parallel-item::after {content: \"\";width: 100%;border-bottom: 1px solid gray;flex-grow: 1;}#sk-container-id-1 div.sk-label:hover label.sk-toggleable__label {background-color: #d4ebff;}#sk-container-id-1 div.sk-serial::before {content: \"\";position: absolute;border-left: 1px solid gray;box-sizing: border-box;top: 0;bottom: 0;left: 50%;z-index: 0;}#sk-container-id-1 div.sk-serial {display: flex;flex-direction: column;align-items: center;background-color: white;padding-right: 0.2em;padding-left: 0.2em;position: relative;}#sk-container-id-1 div.sk-item {position: relative;z-index: 1;}#sk-container-id-1 div.sk-parallel {display: flex;align-items: stretch;justify-content: center;background-color: white;position: relative;}#sk-container-id-1 div.sk-item::before, #sk-container-id-1 div.sk-parallel-item::before {content: \"\";position: absolute;border-left: 1px solid gray;box-sizing: border-box;top: 0;bottom: 0;left: 50%;z-index: -1;}#sk-container-id-1 div.sk-parallel-item {display: flex;flex-direction: column;z-index: 1;position: relative;background-color: white;}#sk-container-id-1 div.sk-parallel-item:first-child::after {align-self: flex-end;width: 50%;}#sk-container-id-1 div.sk-parallel-item:last-child::after {align-self: flex-start;width: 50%;}#sk-container-id-1 div.sk-parallel-item:only-child::after {width: 0;}#sk-container-id-1 div.sk-dashed-wrapped {border: 1px dashed gray;margin: 0 0.4em 0.5em 0.4em;box-sizing: border-box;padding-bottom: 0.4em;background-color: white;}#sk-container-id-1 div.sk-label label {font-family: monospace;font-weight: bold;display: inline-block;line-height: 1.2em;}#sk-container-id-1 div.sk-label-container {text-align: center;}#sk-container-id-1 div.sk-container {/* jupyter's `normalize.less` sets `[hidden] { display: none; }` but bootstrap.min.css set `[hidden] { display: none !important; }` so we also need the `!important` here to be able to override the default hidden behavior on the sphinx rendered scikit-learn.org. See: https://github.com/scikit-learn/scikit-learn/issues/21755 */display: inline-block !important;position: relative;}#sk-container-id-1 div.sk-text-repr-fallback {display: none;}</style><div id=\"sk-container-id-1\" class=\"sk-top-container\"><div class=\"sk-text-repr-fallback\"><pre>SelectKBest(k=&#x27;all&#x27;, score_func=&lt;function f_regression at 0x7f58abc6bb50&gt;)</pre><b>In a Jupyter environment, please rerun this cell to show the HTML representation or trust the notebook. <br />On GitHub, the HTML representation is unable to render, please try loading this page with nbviewer.org.</b></div><div class=\"sk-container\" hidden><div class=\"sk-item\"><div class=\"sk-estimator sk-toggleable\"><input class=\"sk-toggleable__control sk-hidden--visually\" id=\"sk-estimator-id-1\" type=\"checkbox\" checked><label for=\"sk-estimator-id-1\" class=\"sk-toggleable__label sk-toggleable__label-arrow\">SelectKBest</label><div class=\"sk-toggleable__content\"><pre>SelectKBest(k=&#x27;all&#x27;, score_func=&lt;function f_regression at 0x7f58abc6bb50&gt;)</pre></div></div></div></div></div>"
            ]
          },
          "metadata": {},
          "execution_count": 18
        }
      ]
    },
    {
      "cell_type": "code",
      "source": [
        "# Display F-Regression scores for each feature\n",
        "f_scores = pd.DataFrame({'Feature': X.columns, 'F-Score': f_test.scores_})\n",
        "f_scores = f_scores.sort_values(by='F-Score', ascending=False)\n",
        "print(\"\\nF-Regression Scores:\\n\", f_scores)\n"
      ],
      "metadata": {
        "colab": {
          "base_uri": "https://localhost:8080/"
        },
        "id": "RaPBDu2CZytR",
        "outputId": "ce43818e-8940-423f-d8e6-6b339ce4fd14"
      },
      "execution_count": null,
      "outputs": [
        {
          "output_type": "stream",
          "name": "stdout",
          "text": [
            "\n",
            "F-Regression Scores:\n",
            "     Feature     F-Score\n",
            "0  feature1  403.164148\n",
            "2  feature3   99.408150\n",
            "1  feature2    0.193764\n"
          ]
        }
      ]
    },
    {
      "cell_type": "code",
      "source": [
        "# 6. Feature selection using Chi-Square (for categorical features)\n",
        "# If your target variable is continuous, convert it to categories for Chi-Square\n",
        "y_binned = pd.cut(y, bins=3, labels=[0, 1, 2])  # Bin into 3 categories\n"
      ],
      "metadata": {
        "id": "38yIPtTDZ6TI"
      },
      "execution_count": null,
      "outputs": []
    },
    {
      "cell_type": "code",
      "source": [
        "# Apply SelectKBest with chi2\n",
        "chi2_test = SelectKBest(score_func=chi2, k='all')\n",
        "chi2_test.fit(X_non_negative, y_binned)\n",
        "\n"
      ],
      "metadata": {
        "colab": {
          "base_uri": "https://localhost:8080/",
          "height": 74
        },
        "id": "b7DOYKxbZ_Es",
        "outputId": "404c03d1-1190-43bf-a898-bd26685843eb"
      },
      "execution_count": null,
      "outputs": [
        {
          "output_type": "execute_result",
          "data": {
            "text/plain": [
              "SelectKBest(k='all', score_func=<function chi2 at 0x7f58abc6b910>)"
            ],
            "text/html": [
              "<style>#sk-container-id-2 {color: black;}#sk-container-id-2 pre{padding: 0;}#sk-container-id-2 div.sk-toggleable {background-color: white;}#sk-container-id-2 label.sk-toggleable__label {cursor: pointer;display: block;width: 100%;margin-bottom: 0;padding: 0.3em;box-sizing: border-box;text-align: center;}#sk-container-id-2 label.sk-toggleable__label-arrow:before {content: \"▸\";float: left;margin-right: 0.25em;color: #696969;}#sk-container-id-2 label.sk-toggleable__label-arrow:hover:before {color: black;}#sk-container-id-2 div.sk-estimator:hover label.sk-toggleable__label-arrow:before {color: black;}#sk-container-id-2 div.sk-toggleable__content {max-height: 0;max-width: 0;overflow: hidden;text-align: left;background-color: #f0f8ff;}#sk-container-id-2 div.sk-toggleable__content pre {margin: 0.2em;color: black;border-radius: 0.25em;background-color: #f0f8ff;}#sk-container-id-2 input.sk-toggleable__control:checked~div.sk-toggleable__content {max-height: 200px;max-width: 100%;overflow: auto;}#sk-container-id-2 input.sk-toggleable__control:checked~label.sk-toggleable__label-arrow:before {content: \"▾\";}#sk-container-id-2 div.sk-estimator input.sk-toggleable__control:checked~label.sk-toggleable__label {background-color: #d4ebff;}#sk-container-id-2 div.sk-label input.sk-toggleable__control:checked~label.sk-toggleable__label {background-color: #d4ebff;}#sk-container-id-2 input.sk-hidden--visually {border: 0;clip: rect(1px 1px 1px 1px);clip: rect(1px, 1px, 1px, 1px);height: 1px;margin: -1px;overflow: hidden;padding: 0;position: absolute;width: 1px;}#sk-container-id-2 div.sk-estimator {font-family: monospace;background-color: #f0f8ff;border: 1px dotted black;border-radius: 0.25em;box-sizing: border-box;margin-bottom: 0.5em;}#sk-container-id-2 div.sk-estimator:hover {background-color: #d4ebff;}#sk-container-id-2 div.sk-parallel-item::after {content: \"\";width: 100%;border-bottom: 1px solid gray;flex-grow: 1;}#sk-container-id-2 div.sk-label:hover label.sk-toggleable__label {background-color: #d4ebff;}#sk-container-id-2 div.sk-serial::before {content: \"\";position: absolute;border-left: 1px solid gray;box-sizing: border-box;top: 0;bottom: 0;left: 50%;z-index: 0;}#sk-container-id-2 div.sk-serial {display: flex;flex-direction: column;align-items: center;background-color: white;padding-right: 0.2em;padding-left: 0.2em;position: relative;}#sk-container-id-2 div.sk-item {position: relative;z-index: 1;}#sk-container-id-2 div.sk-parallel {display: flex;align-items: stretch;justify-content: center;background-color: white;position: relative;}#sk-container-id-2 div.sk-item::before, #sk-container-id-2 div.sk-parallel-item::before {content: \"\";position: absolute;border-left: 1px solid gray;box-sizing: border-box;top: 0;bottom: 0;left: 50%;z-index: -1;}#sk-container-id-2 div.sk-parallel-item {display: flex;flex-direction: column;z-index: 1;position: relative;background-color: white;}#sk-container-id-2 div.sk-parallel-item:first-child::after {align-self: flex-end;width: 50%;}#sk-container-id-2 div.sk-parallel-item:last-child::after {align-self: flex-start;width: 50%;}#sk-container-id-2 div.sk-parallel-item:only-child::after {width: 0;}#sk-container-id-2 div.sk-dashed-wrapped {border: 1px dashed gray;margin: 0 0.4em 0.5em 0.4em;box-sizing: border-box;padding-bottom: 0.4em;background-color: white;}#sk-container-id-2 div.sk-label label {font-family: monospace;font-weight: bold;display: inline-block;line-height: 1.2em;}#sk-container-id-2 div.sk-label-container {text-align: center;}#sk-container-id-2 div.sk-container {/* jupyter's `normalize.less` sets `[hidden] { display: none; }` but bootstrap.min.css set `[hidden] { display: none !important; }` so we also need the `!important` here to be able to override the default hidden behavior on the sphinx rendered scikit-learn.org. See: https://github.com/scikit-learn/scikit-learn/issues/21755 */display: inline-block !important;position: relative;}#sk-container-id-2 div.sk-text-repr-fallback {display: none;}</style><div id=\"sk-container-id-2\" class=\"sk-top-container\"><div class=\"sk-text-repr-fallback\"><pre>SelectKBest(k=&#x27;all&#x27;, score_func=&lt;function chi2 at 0x7f58abc6b910&gt;)</pre><b>In a Jupyter environment, please rerun this cell to show the HTML representation or trust the notebook. <br />On GitHub, the HTML representation is unable to render, please try loading this page with nbviewer.org.</b></div><div class=\"sk-container\" hidden><div class=\"sk-item\"><div class=\"sk-estimator sk-toggleable\"><input class=\"sk-toggleable__control sk-hidden--visually\" id=\"sk-estimator-id-2\" type=\"checkbox\" checked><label for=\"sk-estimator-id-2\" class=\"sk-toggleable__label sk-toggleable__label-arrow\">SelectKBest</label><div class=\"sk-toggleable__content\"><pre>SelectKBest(k=&#x27;all&#x27;, score_func=&lt;function chi2 at 0x7f58abc6b910&gt;)</pre></div></div></div></div></div>"
            ]
          },
          "metadata": {},
          "execution_count": 30
        }
      ]
    },
    {
      "cell_type": "code",
      "source": [
        "# Display Chi-Square scores for each feature\n",
        "chi2_scores = pd.DataFrame({'Feature': X.columns, 'Chi-Square Score': chi2_test.scores_})\n",
        "chi2_scores = chi2_scores.sort_values(by='Chi-Square Score', ascending=False)\n",
        "print(\"\\nChi-Square Scores:\\n\", chi2_scores)\n"
      ],
      "metadata": {
        "colab": {
          "base_uri": "https://localhost:8080/"
        },
        "id": "Sv-wqA1NaJfs",
        "outputId": "b0c99e57-b037-4e06-acfe-b926e272f4c9"
      },
      "execution_count": null,
      "outputs": [
        {
          "output_type": "stream",
          "name": "stdout",
          "text": [
            "\n",
            "Chi-Square Scores:\n",
            "     Feature  Chi-Square Score\n",
            "0  feature1         25.274161\n",
            "2  feature3          3.588795\n",
            "1  feature2          0.014106\n"
          ]
        }
      ]
    },
    {
      "cell_type": "code",
      "source": [
        "# Summary: Display both f_regression and chi2 results together\n",
        "feature_selection_summary = pd.merge(f_scores, chi2_scores, on='Feature', how='inner')\n",
        "print(\"\\nFeature Selection Summary:\\n\", feature_selection_summary)"
      ],
      "metadata": {
        "colab": {
          "base_uri": "https://localhost:8080/"
        },
        "id": "6ljOV4EDawDF",
        "outputId": "1d293545-eb0a-45f3-f5ab-784128553fa9"
      },
      "execution_count": null,
      "outputs": [
        {
          "output_type": "stream",
          "name": "stdout",
          "text": [
            "\n",
            "Feature Selection Summary:\n",
            "     Feature     F-Score  Chi-Square Score\n",
            "0  feature1  403.164148         25.274161\n",
            "1  feature3   99.408150          3.588795\n",
            "2  feature2    0.193764          0.014106\n"
          ]
        }
      ]
    },
    {
      "cell_type": "code",
      "source": [
        "#5 EXPERIMENT"
      ],
      "metadata": {
        "id": "Lw8V0xL8gAa3"
      },
      "execution_count": null,
      "outputs": []
    },
    {
      "cell_type": "code",
      "source": [
        "import numpy as np\n",
        "import pandas as pd\n",
        "import matplotlib.pyplot as plt\n",
        "from sklearn.datasets import load_iris\n",
        "from sklearn.preprocessing import StandardScaler\n",
        "from sklearn.decomposition import PCA"
      ],
      "metadata": {
        "id": "LGb1p3OWf_wW"
      },
      "execution_count": null,
      "outputs": []
    },
    {
      "cell_type": "code",
      "source": [
        "iris = load_iris()\n",
        "X = iris.data\n",
        "y = iris.target\n"
      ],
      "metadata": {
        "id": "-kV9PIIXgEZB"
      },
      "execution_count": null,
      "outputs": []
    },
    {
      "cell_type": "code",
      "source": [
        "# Standardize the data\n",
        "scaler = StandardScaler()\n",
        "X_scaled = scaler.fit_transform(X)"
      ],
      "metadata": {
        "id": "PUki0yK_gJc2"
      },
      "execution_count": null,
      "outputs": []
    },
    {
      "cell_type": "code",
      "source": [
        "pca = PCA(n_components=2)\n",
        "X_pca = pca.fit_transform(X_scaled)"
      ],
      "metadata": {
        "id": "ut5vgxZngL-g"
      },
      "execution_count": null,
      "outputs": []
    },
    {
      "cell_type": "code",
      "source": [
        "df_pca = pd.DataFrame(data=X_pca, columns=['PC1', 'PC2'])\n",
        "df_pca['Target'] = y"
      ],
      "metadata": {
        "id": "i-GxxBgkgOF2"
      },
      "execution_count": null,
      "outputs": []
    },
    {
      "cell_type": "code",
      "source": [
        "plt.figure(figsize=(8,6))\n",
        "colors = ['r', 'g', 'b']\n",
        "for target, color in zip([0, 1, 2], colors):\n",
        "    indices = df_pca['Target'] == target\n",
        "    plt.scatter(df_pca.loc[indices, 'PC1'], df_pca.loc[indices, 'PC2'], c=color, label=iris.target_names[target], s=50)"
      ],
      "metadata": {
        "id": "VemnCxetgQsd",
        "outputId": "cf1f3699-41e3-4031-b719-ec2516a31c60",
        "colab": {
          "base_uri": "https://localhost:8080/",
          "height": 522
        }
      },
      "execution_count": null,
      "outputs": [
        {
          "output_type": "display_data",
          "data": {
            "text/plain": [
              "<Figure size 800x600 with 1 Axes>"
            ],
            "image/png": "[encoded data removed]"
          },
          "metadata": {}
        }
      ]
    },
    {
      "cell_type": "code",
      "source": [
        "plt.xlabel('Principal Component 1')\n",
        "plt.ylabel('Principal Component 2')\n",
        "plt.legend()\n",
        "plt.title('PCA on Iris Dataset')\n",
        "plt.show()"
      ],
      "metadata": {
        "id": "Ib-6ugfZgT-h",
        "outputId": "49519f9a-80e2-4827-ce7c-7dad32c9e3f6",
        "colab": {
          "base_uri": "https://localhost:8080/",
          "height": 509
        }
      },
      "execution_count": null,
      "outputs": [
        {
          "output_type": "stream",
          "name": "stderr",
          "text": [
            "WARNING:matplotlib.legend:No artists with labels found to put in legend.  Note that artists whose label start with an underscore are ignored when legend() is called with no argument.\n"
          ]
        },
        {
          "output_type": "display_data",
          "data": {
            "text/plain": [
              "<Figure size 640x480 with 1 Axes>"
            ],
            "image/png": "[encoded data removed]"
          },
          "metadata": {}
        }
      ]
    },
    {
      "cell_type": "code",
      "source": [
        "#7 Experiment"
      ],
      "metadata": {
        "id": "ESAxu9pmxcSo"
      },
      "execution_count": null,
      "outputs": []
    },
    {
      "cell_type": "code",
      "source": [
        "import pandas as pd\n",
        "from sklearn.model_selection import train_test_split\n",
        "from sklearn.linear_model import LinearRegression\n",
        "from sklearn.metrics import mean_absolute_error, mean_squared_error, r2_score\n",
        "\n"
      ],
      "metadata": {
        "id": "TAE7P4uxxhQI"
      },
      "execution_count": null,
      "outputs": []
    },
    {
      "cell_type": "code",
      "source": [
        "# Load the dataset\n",
        "df = pd.read_csv('DATA.csv')\n",
        "\n"
      ],
      "metadata": {
        "id": "9NGTj4qWxjSu"
      },
      "execution_count": null,
      "outputs": []
    },
    {
      "cell_type": "code",
      "source": [
        "# Select multiple features (independent variables) and the target (dependent variable)\n",
        "X = df[['feature1', 'feature2', 'feature3']]  # Example: multiple features\n",
        "y = df['target']  # Target variable\n",
        "\n"
      ],
      "metadata": {
        "id": "vHObGZW_xqPy"
      },
      "execution_count": null,
      "outputs": []
    },
    {
      "cell_type": "code",
      "source": [
        "# Split the data into training and test sets\n",
        "X_train, X_test, y_train, y_test = train_test_split(X, y, test_size=0.2, random_state=42)\n",
        "\n"
      ],
      "metadata": {
        "id": "FcclBq3kxrzu"
      },
      "execution_count": null,
      "outputs": []
    },
    {
      "cell_type": "code",
      "source": [
        "# Train the Multiple Linear Regression model\n",
        "model = LinearRegression()\n",
        "model.fit(X_train, y_train)\n",
        "\n",
        "# Make predictions on the test data\n",
        "y_pred = model.predict(X_test)\n",
        "\n"
      ],
      "metadata": {
        "id": "Jba661AexuBf"
      },
      "execution_count": null,
      "outputs": []
    },
    {
      "cell_type": "code",
      "source": [
        "# Evaluate the model\n",
        "mae = mean_absolute_error(y_test, y_pred)\n",
        "mse = mean_squared_error(y_test, y_pred)\n",
        "rmse = mse ** 0.5\n",
        "r2 = r2_score(y_test, y_pred)\n",
        "\n",
        "# Print the performance metrics\n",
        "print(f'MAE: {mae}')\n",
        "print(f'MSE: {mse}')\n",
        "print(f'RMSE: {rmse}')\n",
        "print(f'R²: {r2}')"
      ],
      "metadata": {
        "colab": {
          "base_uri": "https://localhost:8080/"
        },
        "id": "nKrXsBXxxvtb",
        "outputId": "61ca2ff3-a577-4742-8e96-f50555f24017"
      },
      "execution_count": null,
      "outputs": [
        {
          "output_type": "stream",
          "name": "stdout",
          "text": [
            "MAE: 16.07181471426064\n",
            "MSE: 367.63566761005507\n",
            "RMSE: 19.173827672378174\n",
            "R²: 0.9570099664738926\n"
          ]
        }
      ]
    },
    {
      "cell_type": "code",
      "source": [
        "#10 Experiment"
      ],
      "metadata": {
        "id": "VKaToaxwyLG6"
      },
      "execution_count": null,
      "outputs": []
    },
    {
      "cell_type": "code",
      "source": [
        "import pandas as pd\n",
        "from sklearn.model_selection import train_test_split\n",
        "from sklearn.neighbors import KNeighborsClassifier\n",
        "from sklearn.metrics import accuracy_score, confusion_matrix, classification_report\n",
        "\n"
      ],
      "metadata": {
        "id": "N1AFsudlyNhQ"
      },
      "execution_count": null,
      "outputs": []
    },
    {
      "cell_type": "code",
      "source": [
        "# Load the dataset\n",
        "df = pd.read_csv('DATA.csv')\n",
        "\n"
      ],
      "metadata": {
        "id": "bBYZ46pryQtN"
      },
      "execution_count": null,
      "outputs": []
    },
    {
      "cell_type": "code",
      "source": [
        "# Define features (X) and target (y)\n",
        "X = df[['feature1', 'feature2', 'feature3']]\n",
        "\n"
      ],
      "metadata": {
        "id": "q_PgJZAayUn6"
      },
      "execution_count": null,
      "outputs": []
    },
    {
      "cell_type": "code",
      "source": [
        "# Convert the continuous target variable into categories\n",
        "y = pd.cut(df['target'], bins=3, labels=['Low', 'Medium', 'High'])  # Example binning\n",
        "\n",
        "# Split the data into training and testing sets\n",
        "X_train, X_test, y_train, y_test = train_test_split(X, y, test_size=0.2, random_state=42)\n",
        "\n",
        "# Train the KNN Classifier (choose k=5, for example)\n",
        "knn = KNeighborsClassifier(n_neighbors=5)\n",
        "knn.fit(X_train, y_train)\n",
        "\n"
      ],
      "metadata": {
        "colab": {
          "base_uri": "https://localhost:8080/",
          "height": 80
        },
        "id": "L7U5qLSPyWeZ",
        "outputId": "64b228c4-119c-4bd4-cbe6-be93f8f3118a"
      },
      "execution_count": null,
      "outputs": [
        {
          "output_type": "execute_result",
          "data": {
            "text/plain": [
              "KNeighborsClassifier()"
            ],
            "text/html": [
              "<style>#sk-container-id-2 {\n",
              "  /* Definition of color scheme common for light and dark mode */\n",
              "  --sklearn-color-text: black;\n",
              "  --sklearn-color-line: gray;\n",
              "  /* Definition of color scheme for unfitted estimators */\n",
              "  --sklearn-color-unfitted-level-0: #fff5e6;\n",
              "  --sklearn-color-unfitted-level-1: #f6e4d2;\n",
              "  --sklearn-color-unfitted-level-2: #ffe0b3;\n",
              "  --sklearn-color-unfitted-level-3: chocolate;\n",
              "  /* Definition of color scheme for fitted estimators */\n",
              "  --sklearn-color-fitted-level-0: #f0f8ff;\n",
              "  --sklearn-color-fitted-level-1: #d4ebff;\n",
              "  --sklearn-color-fitted-level-2: #b3dbfd;\n",
              "  --sklearn-color-fitted-level-3: cornflowerblue;\n",
              "\n",
              "  /* Specific color for light theme */\n",
              "  --sklearn-color-text-on-default-background: var(--sg-text-color, var(--theme-code-foreground, var(--jp-content-font-color1, black)));\n",
              "  --sklearn-color-background: var(--sg-background-color, var(--theme-background, var(--jp-layout-color0, white)));\n",
              "  --sklearn-color-border-box: var(--sg-text-color, var(--theme-code-foreground, var(--jp-content-font-color1, black)));\n",
              "  --sklearn-color-icon: #696969;\n",
              "\n",
              "  @media (prefers-color-scheme: dark) {\n",
              "    /* Redefinition of color scheme for dark theme */\n",
              "    --sklearn-color-text-on-default-background: var(--sg-text-color, var(--theme-code-foreground, var(--jp-content-font-color1, white)));\n",
              "    --sklearn-color-background: var(--sg-background-color, var(--theme-background, var(--jp-layout-color0, #111)));\n",
              "    --sklearn-color-border-box: var(--sg-text-color, var(--theme-code-foreground, var(--jp-content-font-color1, white)));\n",
              "    --sklearn-color-icon: #878787;\n",
              "  }\n",
              "}\n",
              "\n",
              "#sk-container-id-2 {\n",
              "  color: var(--sklearn-color-text);\n",
              "}\n",
              "\n",
              "#sk-container-id-2 pre {\n",
              "  padding: 0;\n",
              "}\n",
              "\n",
              "#sk-container-id-2 input.sk-hidden--visually {\n",
              "  border: 0;\n",
              "  clip: rect(1px 1px 1px 1px);\n",
              "  clip: rect(1px, 1px, 1px, 1px);\n",
              "  height: 1px;\n",
              "  margin: -1px;\n",
              "  overflow: hidden;\n",
              "  padding: 0;\n",
              "  position: absolute;\n",
              "  width: 1px;\n",
              "}\n",
              "\n",
              "#sk-container-id-2 div.sk-dashed-wrapped {\n",
              "  border: 1px dashed var(--sklearn-color-line);\n",
              "  margin: 0 0.4em 0.5em 0.4em;\n",
              "  box-sizing: border-box;\n",
              "  padding-bottom: 0.4em;\n",
              "  background-color: var(--sklearn-color-background);\n",
              "}\n",
              "\n",
              "#sk-container-id-2 div.sk-container {\n",
              "  /* jupyter's `normalize.less` sets `[hidden] { display: none; }`\n",
              "     but bootstrap.min.css set `[hidden] { display: none !important; }`\n",
              "     so we also need the `!important` here to be able to override the\n",
              "     default hidden behavior on the sphinx rendered scikit-learn.org.\n",
              "     See: https://github.com/scikit-learn/scikit-learn/issues/21755 */\n",
              "  display: inline-block !important;\n",
              "  position: relative;\n",
              "}\n",
              "\n",
              "#sk-container-id-2 div.sk-text-repr-fallback {\n",
              "  display: none;\n",
              "}\n",
              "\n",
              "div.sk-parallel-item,\n",
              "div.sk-serial,\n",
              "div.sk-item {\n",
              "  /* draw centered vertical line to link estimators */\n",
              "  background-image: linear-gradient(var(--sklearn-color-text-on-default-background), var(--sklearn-color-text-on-default-background));\n",
              "  background-size: 2px 100%;\n",
              "  background-repeat: no-repeat;\n",
              "  background-position: center center;\n",
              "}\n",
              "\n",
              "/* Parallel-specific style estimator block */\n",
              "\n",
              "#sk-container-id-2 div.sk-parallel-item::after {\n",
              "  content: \"\";\n",
              "  width: 100%;\n",
              "  border-bottom: 2px solid var(--sklearn-color-text-on-default-background);\n",
              "  flex-grow: 1;\n",
              "}\n",
              "\n",
              "#sk-container-id-2 div.sk-parallel {\n",
              "  display: flex;\n",
              "  align-items: stretch;\n",
              "  justify-content: center;\n",
              "  background-color: var(--sklearn-color-background);\n",
              "  position: relative;\n",
              "}\n",
              "\n",
              "#sk-container-id-2 div.sk-parallel-item {\n",
              "  display: flex;\n",
              "  flex-direction: column;\n",
              "}\n",
              "\n",
              "#sk-container-id-2 div.sk-parallel-item:first-child::after {\n",
              "  align-self: flex-end;\n",
              "  width: 50%;\n",
              "}\n",
              "\n",
              "#sk-container-id-2 div.sk-parallel-item:last-child::after {\n",
              "  align-self: flex-start;\n",
              "  width: 50%;\n",
              "}\n",
              "\n",
              "#sk-container-id-2 div.sk-parallel-item:only-child::after {\n",
              "  width: 0;\n",
              "}\n",
              "\n",
              "/* Serial-specific style estimator block */\n",
              "\n",
              "#sk-container-id-2 div.sk-serial {\n",
              "  display: flex;\n",
              "  flex-direction: column;\n",
              "  align-items: center;\n",
              "  background-color: var(--sklearn-color-background);\n",
              "  padding-right: 1em;\n",
              "  padding-left: 1em;\n",
              "}\n",
              "\n",
              "\n",
              "/* Toggleable style: style used for estimator/Pipeline/ColumnTransformer box that is\n",
              "clickable and can be expanded/collapsed.\n",
              "- Pipeline and ColumnTransformer use this feature and define the default style\n",
              "- Estimators will overwrite some part of the style using the `sk-estimator` class\n",
              "*/\n",
              "\n",
              "/* Pipeline and ColumnTransformer style (default) */\n",
              "\n",
              "#sk-container-id-2 div.sk-toggleable {\n",
              "  /* Default theme specific background. It is overwritten whether we have a\n",
              "  specific estimator or a Pipeline/ColumnTransformer */\n",
              "  background-color: var(--sklearn-color-background);\n",
              "}\n",
              "\n",
              "/* Toggleable label */\n",
              "#sk-container-id-2 label.sk-toggleable__label {\n",
              "  cursor: pointer;\n",
              "  display: block;\n",
              "  width: 100%;\n",
              "  margin-bottom: 0;\n",
              "  padding: 0.5em;\n",
              "  box-sizing: border-box;\n",
              "  text-align: center;\n",
              "}\n",
              "\n",
              "#sk-container-id-2 label.sk-toggleable__label-arrow:before {\n",
              "  /* Arrow on the left of the label */\n",
              "  content: \"▸\";\n",
              "  float: left;\n",
              "  margin-right: 0.25em;\n",
              "  color: var(--sklearn-color-icon);\n",
              "}\n",
              "\n",
              "#sk-container-id-2 label.sk-toggleable__label-arrow:hover:before {\n",
              "  color: var(--sklearn-color-text);\n",
              "}\n",
              "\n",
              "/* Toggleable content - dropdown */\n",
              "\n",
              "#sk-container-id-2 div.sk-toggleable__content {\n",
              "  max-height: 0;\n",
              "  max-width: 0;\n",
              "  overflow: hidden;\n",
              "  text-align: left;\n",
              "  /* unfitted */\n",
              "  background-color: var(--sklearn-color-unfitted-level-0);\n",
              "}\n",
              "\n",
              "#sk-container-id-2 div.sk-toggleable__content.fitted {\n",
              "  /* fitted */\n",
              "  background-color: var(--sklearn-color-fitted-level-0);\n",
              "}\n",
              "\n",
              "#sk-container-id-2 div.sk-toggleable__content pre {\n",
              "  margin: 0.2em;\n",
              "  border-radius: 0.25em;\n",
              "  color: var(--sklearn-color-text);\n",
              "  /* unfitted */\n",
              "  background-color: var(--sklearn-color-unfitted-level-0);\n",
              "}\n",
              "\n",
              "#sk-container-id-2 div.sk-toggleable__content.fitted pre {\n",
              "  /* unfitted */\n",
              "  background-color: var(--sklearn-color-fitted-level-0);\n",
              "}\n",
              "\n",
              "#sk-container-id-2 input.sk-toggleable__control:checked~div.sk-toggleable__content {\n",
              "  /* Expand drop-down */\n",
              "  max-height: 200px;\n",
              "  max-width: 100%;\n",
              "  overflow: auto;\n",
              "}\n",
              "\n",
              "#sk-container-id-2 input.sk-toggleable__control:checked~label.sk-toggleable__label-arrow:before {\n",
              "  content: \"▾\";\n",
              "}\n",
              "\n",
              "/* Pipeline/ColumnTransformer-specific style */\n",
              "\n",
              "#sk-container-id-2 div.sk-label input.sk-toggleable__control:checked~label.sk-toggleable__label {\n",
              "  color: var(--sklearn-color-text);\n",
              "  background-color: var(--sklearn-color-unfitted-level-2);\n",
              "}\n",
              "\n",
              "#sk-container-id-2 div.sk-label.fitted input.sk-toggleable__control:checked~label.sk-toggleable__label {\n",
              "  background-color: var(--sklearn-color-fitted-level-2);\n",
              "}\n",
              "\n",
              "/* Estimator-specific style */\n",
              "\n",
              "/* Colorize estimator box */\n",
              "#sk-container-id-2 div.sk-estimator input.sk-toggleable__control:checked~label.sk-toggleable__label {\n",
              "  /* unfitted */\n",
              "  background-color: var(--sklearn-color-unfitted-level-2);\n",
              "}\n",
              "\n",
              "#sk-container-id-2 div.sk-estimator.fitted input.sk-toggleable__control:checked~label.sk-toggleable__label {\n",
              "  /* fitted */\n",
              "  background-color: var(--sklearn-color-fitted-level-2);\n",
              "}\n",
              "\n",
              "#sk-container-id-2 div.sk-label label.sk-toggleable__label,\n",
              "#sk-container-id-2 div.sk-label label {\n",
              "  /* The background is the default theme color */\n",
              "  color: var(--sklearn-color-text-on-default-background);\n",
              "}\n",
              "\n",
              "/* On hover, darken the color of the background */\n",
              "#sk-container-id-2 div.sk-label:hover label.sk-toggleable__label {\n",
              "  color: var(--sklearn-color-text);\n",
              "  background-color: var(--sklearn-color-unfitted-level-2);\n",
              "}\n",
              "\n",
              "/* Label box, darken color on hover, fitted */\n",
              "#sk-container-id-2 div.sk-label.fitted:hover label.sk-toggleable__label.fitted {\n",
              "  color: var(--sklearn-color-text);\n",
              "  background-color: var(--sklearn-color-fitted-level-2);\n",
              "}\n",
              "\n",
              "/* Estimator label */\n",
              "\n",
              "#sk-container-id-2 div.sk-label label {\n",
              "  font-family: monospace;\n",
              "  font-weight: bold;\n",
              "  display: inline-block;\n",
              "  line-height: 1.2em;\n",
              "}\n",
              "\n",
              "#sk-container-id-2 div.sk-label-container {\n",
              "  text-align: center;\n",
              "}\n",
              "\n",
              "/* Estimator-specific */\n",
              "#sk-container-id-2 div.sk-estimator {\n",
              "  font-family: monospace;\n",
              "  border: 1px dotted var(--sklearn-color-border-box);\n",
              "  border-radius: 0.25em;\n",
              "  box-sizing: border-box;\n",
              "  margin-bottom: 0.5em;\n",
              "  /* unfitted */\n",
              "  background-color: var(--sklearn-color-unfitted-level-0);\n",
              "}\n",
              "\n",
              "#sk-container-id-2 div.sk-estimator.fitted {\n",
              "  /* fitted */\n",
              "  background-color: var(--sklearn-color-fitted-level-0);\n",
              "}\n",
              "\n",
              "/* on hover */\n",
              "#sk-container-id-2 div.sk-estimator:hover {\n",
              "  /* unfitted */\n",
              "  background-color: var(--sklearn-color-unfitted-level-2);\n",
              "}\n",
              "\n",
              "#sk-container-id-2 div.sk-estimator.fitted:hover {\n",
              "  /* fitted */\n",
              "  background-color: var(--sklearn-color-fitted-level-2);\n",
              "}\n",
              "\n",
              "/* Specification for estimator info (e.g. \"i\" and \"?\") */\n",
              "\n",
              "/* Common style for \"i\" and \"?\" */\n",
              "\n",
              ".sk-estimator-doc-link,\n",
              "a:link.sk-estimator-doc-link,\n",
              "a:visited.sk-estimator-doc-link {\n",
              "  float: right;\n",
              "  font-size: smaller;\n",
              "  line-height: 1em;\n",
              "  font-family: monospace;\n",
              "  background-color: var(--sklearn-color-background);\n",
              "  border-radius: 1em;\n",
              "  height: 1em;\n",
              "  width: 1em;\n",
              "  text-decoration: none !important;\n",
              "  margin-left: 1ex;\n",
              "  /* unfitted */\n",
              "  border: var(--sklearn-color-unfitted-level-1) 1pt solid;\n",
              "  color: var(--sklearn-color-unfitted-level-1);\n",
              "}\n",
              "\n",
              ".sk-estimator-doc-link.fitted,\n",
              "a:link.sk-estimator-doc-link.fitted,\n",
              "a:visited.sk-estimator-doc-link.fitted {\n",
              "  /* fitted */\n",
              "  border: var(--sklearn-color-fitted-level-1) 1pt solid;\n",
              "  color: var(--sklearn-color-fitted-level-1);\n",
              "}\n",
              "\n",
              "/* On hover */\n",
              "div.sk-estimator:hover .sk-estimator-doc-link:hover,\n",
              ".sk-estimator-doc-link:hover,\n",
              "div.sk-label-container:hover .sk-estimator-doc-link:hover,\n",
              ".sk-estimator-doc-link:hover {\n",
              "  /* unfitted */\n",
              "  background-color: var(--sklearn-color-unfitted-level-3);\n",
              "  color: var(--sklearn-color-background);\n",
              "  text-decoration: none;\n",
              "}\n",
              "\n",
              "div.sk-estimator.fitted:hover .sk-estimator-doc-link.fitted:hover,\n",
              ".sk-estimator-doc-link.fitted:hover,\n",
              "div.sk-label-container:hover .sk-estimator-doc-link.fitted:hover,\n",
              ".sk-estimator-doc-link.fitted:hover {\n",
              "  /* fitted */\n",
              "  background-color: var(--sklearn-color-fitted-level-3);\n",
              "  color: var(--sklearn-color-background);\n",
              "  text-decoration: none;\n",
              "}\n",
              "\n",
              "/* Span, style for the box shown on hovering the info icon */\n",
              ".sk-estimator-doc-link span {\n",
              "  display: none;\n",
              "  z-index: 9999;\n",
              "  position: relative;\n",
              "  font-weight: normal;\n",
              "  right: .2ex;\n",
              "  padding: .5ex;\n",
              "  margin: .5ex;\n",
              "  width: min-content;\n",
              "  min-width: 20ex;\n",
              "  max-width: 50ex;\n",
              "  color: var(--sklearn-color-text);\n",
              "  box-shadow: 2pt 2pt 4pt #999;\n",
              "  /* unfitted */\n",
              "  background: var(--sklearn-color-unfitted-level-0);\n",
              "  border: .5pt solid var(--sklearn-color-unfitted-level-3);\n",
              "}\n",
              "\n",
              ".sk-estimator-doc-link.fitted span {\n",
              "  /* fitted */\n",
              "  background: var(--sklearn-color-fitted-level-0);\n",
              "  border: var(--sklearn-color-fitted-level-3);\n",
              "}\n",
              "\n",
              ".sk-estimator-doc-link:hover span {\n",
              "  display: block;\n",
              "}\n",
              "\n",
              "/* \"?\"-specific style due to the `<a>` HTML tag */\n",
              "\n",
              "#sk-container-id-2 a.estimator_doc_link {\n",
              "  float: right;\n",
              "  font-size: 1rem;\n",
              "  line-height: 1em;\n",
              "  font-family: monospace;\n",
              "  background-color: var(--sklearn-color-background);\n",
              "  border-radius: 1rem;\n",
              "  height: 1rem;\n",
              "  width: 1rem;\n",
              "  text-decoration: none;\n",
              "  /* unfitted */\n",
              "  color: var(--sklearn-color-unfitted-level-1);\n",
              "  border: var(--sklearn-color-unfitted-level-1) 1pt solid;\n",
              "}\n",
              "\n",
              "#sk-container-id-2 a.estimator_doc_link.fitted {\n",
              "  /* fitted */\n",
              "  border: var(--sklearn-color-fitted-level-1) 1pt solid;\n",
              "  color: var(--sklearn-color-fitted-level-1);\n",
              "}\n",
              "\n",
              "/* On hover */\n",
              "#sk-container-id-2 a.estimator_doc_link:hover {\n",
              "  /* unfitted */\n",
              "  background-color: var(--sklearn-color-unfitted-level-3);\n",
              "  color: var(--sklearn-color-background);\n",
              "  text-decoration: none;\n",
              "}\n",
              "\n",
              "#sk-container-id-2 a.estimator_doc_link.fitted:hover {\n",
              "  /* fitted */\n",
              "  background-color: var(--sklearn-color-fitted-level-3);\n",
              "}\n",
              "</style><div id=\"sk-container-id-2\" class=\"sk-top-container\"><div class=\"sk-text-repr-fallback\"><pre>KNeighborsClassifier()</pre><b>In a Jupyter environment, please rerun this cell to show the HTML representation or trust the notebook. <br />On GitHub, the HTML representation is unable to render, please try loading this page with nbviewer.org.</b></div><div class=\"sk-container\" hidden><div class=\"sk-item\"><div class=\"sk-estimator fitted sk-toggleable\"><input class=\"sk-toggleable__control sk-hidden--visually\" id=\"sk-estimator-id-2\" type=\"checkbox\" checked><label for=\"sk-estimator-id-2\" class=\"sk-toggleable__label fitted sk-toggleable__label-arrow fitted\">&nbsp;&nbsp;KNeighborsClassifier<a class=\"sk-estimator-doc-link fitted\" rel=\"noreferrer\" target=\"_blank\" href=\"https://scikit-learn.org/1.5/modules/generated/sklearn.neighbors.KNeighborsClassifier.html\">?<span>Documentation for KNeighborsClassifier</span></a><span class=\"sk-estimator-doc-link fitted\">i<span>Fitted</span></span></label><div class=\"sk-toggleable__content fitted\"><pre>KNeighborsClassifier()</pre></div> </div></div></div></div>"
            ]
          },
          "metadata": {},
          "execution_count": 17
        }
      ]
    },
    {
      "cell_type": "code",
      "source": [
        "# Predict on the test set\n",
        "y_pred = knn.predict(X_test)\n",
        "\n",
        "# Evaluate the performance\n",
        "accuracy = accuracy_score(y_test, y_pred)\n",
        "conf_matrix = confusion_matrix(y_test, y_pred)\n",
        "class_report = classification_report(y_test, y_pred)\n",
        "\n",
        "print(f'Accuracy: {accuracy}')\n",
        "print(f'Confusion Matrix:\\n{conf_matrix}')\n",
        "print(f'Classification Report:\\n{class_report}')"
      ],
      "metadata": {
        "colab": {
          "base_uri": "https://localhost:8080/"
        },
        "id": "bmWQ2TKjyYcV",
        "outputId": "695d4c09-96f5-4449-ec9c-26d36778be33"
      },
      "execution_count": null,
      "outputs": [
        {
          "output_type": "stream",
          "name": "stdout",
          "text": [
            "Accuracy: 0.8\n",
            "Confusion Matrix:\n",
            "[[ 5  0  1]\n",
            " [ 0  3  3]\n",
            " [ 3  1 24]]\n",
            "Classification Report:\n",
            "              precision    recall  f1-score   support\n",
            "\n",
            "        High       0.62      0.83      0.71         6\n",
            "         Low       0.75      0.50      0.60         6\n",
            "      Medium       0.86      0.86      0.86        28\n",
            "\n",
            "    accuracy                           0.80        40\n",
            "   macro avg       0.74      0.73      0.72        40\n",
            "weighted avg       0.81      0.80      0.80        40\n",
            "\n"
          ]
        }
      ]
    },
    {
      "cell_type": "code",
      "source": [
        "#6 Experiment"
      ],
      "metadata": {
        "id": "oOienbGg0lXZ"
      },
      "execution_count": null,
      "outputs": []
    },
    {
      "cell_type": "code",
      "source": [
        "import pandas as pd\n",
        "from sklearn.model_selection import train_test_split\n",
        "from sklearn.linear_model import LinearRegression\n",
        "from sklearn.metrics import mean_absolute_error, mean_squared_error, r2_score\n",
        "\n"
      ],
      "metadata": {
        "id": "IsmQutxh0oWH"
      },
      "execution_count": null,
      "outputs": []
    },
    {
      "cell_type": "code",
      "source": [
        "# Load the dataset\n",
        "df = pd.read_csv('DATA.csv')\n",
        "print(df.columns)\n",
        "\n"
      ],
      "metadata": {
        "colab": {
          "base_uri": "https://localhost:8080/"
        },
        "id": "YMbPgal50xQl",
        "outputId": "ca3ce1d3-f30b-466b-dd83-3a9f2e90a8b9"
      },
      "execution_count": null,
      "outputs": [
        {
          "output_type": "stream",
          "name": "stdout",
          "text": [
            "Index(['feature1', 'feature2', 'feature3', 'target'], dtype='object')\n"
          ]
        }
      ]
    },
    {
      "cell_type": "code",
      "source": [
        "# Use 'feature1' as the input feature and 'target' as the output variable\n",
        "X = df[['feature1']]  # Independent variable\n",
        "y = df['target']  # Dependent variable (target)\n",
        "\n"
      ],
      "metadata": {
        "id": "IjzY1bNg0z70"
      },
      "execution_count": null,
      "outputs": []
    },
    {
      "cell_type": "code",
      "source": [
        "# Split data into training and testing sets\n",
        "X_train, X_test, y_train, y_test = train_test_split(X, y, test_size=0.2, random_state=42)\n",
        "\n",
        "# Train the Simple Linear Regression model\n",
        "model = LinearRegression()\n",
        "model.fit(X_train, y_train)\n",
        "\n",
        "# Make predictions on the test data\n",
        "y_pred = model.predict(X_test)\n",
        "\n"
      ],
      "metadata": {
        "id": "Xso-5lgB02WV"
      },
      "execution_count": null,
      "outputs": []
    },
    {
      "cell_type": "code",
      "source": [
        "# Evaluate the model\n",
        "mae = mean_absolute_error(y_test, y_pred)\n",
        "mse = mean_squared_error(y_test, y_pred)\n",
        "rmse = mse ** 0.5\n",
        "r2 = r2_score(y_test, y_pred)\n",
        "\n",
        "print(f'MAE: {mae}')\n",
        "print(f'MSE: {mse}')\n",
        "print(f'RMSE: {rmse}')\n",
        "print(f'R2: {r2}')"
      ],
      "metadata": {
        "id": "JYII-cDc04oR",
        "outputId": "b4b7199d-5b56-44fe-8001-4a3a83dadff1",
        "colab": {
          "base_uri": "https://localhost:8080/"
        }
      },
      "execution_count": null,
      "outputs": [
        {
          "output_type": "stream",
          "name": "stdout",
          "text": [
            "MAE: 36.292809336621616\n",
            "MSE: 2168.3167350738263\n",
            "RMSE: 46.56518801716392\n",
            "R2: 0.7464445989638955\n"
          ]
        }
      ]
    }
  ],
  "metadata": {
    "kernelspec": {
      "display_name": "Python 3",
      "language": "python",
      "name": "python3"
    },
    "language_info": {
      "codemirror_mode": {
        "name": "ipython",
        "version": 3
      },
      "file_extension": ".py",
      "mimetype": "text/x-python",
      "name": "python",
      "nbconvert_exporter": "python",
      "pygments_lexer": "ipython3",
      "version": "3.12.1"
    },
    "toc": {
      "base_numbering": 1,
      "nav_menu": {},
      "number_sections": true,
      "sideBar": true,
      "skip_h1_title": false,
      "title_cell": "Table of Contents",
      "title_sidebar": "Contents",
      "toc_cell": false,
      "toc_position": {},
      "toc_section_display": true,
      "toc_window_display": false
    },
    "varInspector": {
      "cols": {
        "lenName": 16,
        "lenType": 16,
        "lenVar": 40
      },
      "kernels_config": {
        "python": {
          "delete_cmd_postfix": "",
          "delete_cmd_prefix": "del ",
          "library": "var_list.py",
          "varRefreshCmd": "print(var_dic_list())"
        },
        "r": {
          "delete_cmd_postfix": ") ",
          "delete_cmd_prefix": "rm(",
          "library": "var_list.r",
          "varRefreshCmd": "cat(var_dic_list()) "
        }
      },
      "types_to_exclude": [
        "module",
        "function",
        "builtin_function_or_method",
        "instance",
        "_Feature"
      ],
      "window_display": false
    },
    "colab": {
      "provenance": [],
      "include_colab_link": true
    }
  },
  "nbformat": 4,
  "nbformat_minor": 0
}